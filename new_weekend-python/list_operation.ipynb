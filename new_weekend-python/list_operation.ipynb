{
 "cells": [
  {
   "cell_type": "code",
   "execution_count": 6,
   "metadata": {},
   "outputs": [
    {
     "name": "stdout",
     "output_type": "stream",
     "text": [
      "<class 'list'>\n"
     ]
    }
   ],
   "source": [
    "#to initialize an empty list.\n",
    "x=[]\n",
    "print(type(x))"
   ]
  },
  {
   "cell_type": "code",
   "execution_count": 7,
   "metadata": {},
   "outputs": [
    {
     "name": "stdout",
     "output_type": "stream",
     "text": [
      "<class 'list'>\n"
     ]
    }
   ],
   "source": [
    "#to initialize an empty list\n",
    "y=list()\n",
    "print(type(y))"
   ]
  },
  {
   "cell_type": "code",
   "execution_count": 8,
   "metadata": {},
   "outputs": [
    {
     "name": "stdout",
     "output_type": "stream",
     "text": [
      "['mobile']\n"
     ]
    }
   ],
   "source": [
    "# list is a muttable data type\n",
    "name=[]\n",
    "# add single element into a list using append()\n",
    "name.append('mobile')\n",
    "print(name)"
   ]
  },
  {
   "cell_type": "code",
   "execution_count": 9,
   "metadata": {},
   "outputs": [
    {
     "name": "stdout",
     "output_type": "stream",
     "text": [
      "['mobile', 'laptop', 'pen']\n"
     ]
    }
   ],
   "source": [
    "# add more than one element into a list\n",
    "name.extend(['laptop','pen'])\n",
    "print(name)"
   ]
  },
  {
   "cell_type": "code",
   "execution_count": 10,
   "metadata": {},
   "outputs": [
    {
     "name": "stdout",
     "output_type": "stream",
     "text": [
      "['mobile', 'laptop', 'pen', 'bag', 'pencil']\n"
     ]
    }
   ],
   "source": [
    "name.extend(['bag','pencil'])\n",
    "print(name)"
   ]
  },
  {
   "cell_type": "code",
   "execution_count": 11,
   "metadata": {},
   "outputs": [
    {
     "name": "stdout",
     "output_type": "stream",
     "text": [
      "['mobile', 'laptop', 'mouse', 'pen', 'bag', 'pencil']\n"
     ]
    }
   ],
   "source": [
    "#insert(): add element a particular position\n",
    "#insert(index,element)\n",
    "name.insert(2,'mouse')\n",
    "print(name)"
   ]
  },
  {
   "cell_type": "code",
   "execution_count": 16,
   "metadata": {},
   "outputs": [
    {
     "name": "stdout",
     "output_type": "stream",
     "text": [
      "['mobile', 'laptop', 'mouse', 'pen', 'bag', 'pencil', 'notebook', 'book', 'notebook', 'book']\n"
     ]
    }
   ],
   "source": [
    "name=name+['notebook','book']\n",
    "print(name)"
   ]
  },
  {
   "cell_type": "code",
   "execution_count": 17,
   "metadata": {},
   "outputs": [
    {
     "name": "stdout",
     "output_type": "stream",
     "text": [
      "Original list is x=    ['Narendra', 'Prashant', 'Sarthi']\n",
      "Duplicate list is y=   ['Narendra', 'Prashant', 'Sarthi']\n",
      "Original list is x=    ['Narendra', 'Prashant', 'Sarthi', 'Vaibhav', 'Akshata']\n",
      "Duplicate list is y=   ['Narendra', 'Prashant', 'Sarthi', 'Vaibhav', 'Akshata']\n",
      "Memory address of x is  1655901173312\n",
      "Memory adress of y is  1655901173312\n"
     ]
    }
   ],
   "source": [
    "x=['Narendra','Prashant','Sarthi']\n",
    "y=x #assignment operator \n",
    "print(\"Original list is x=   \",x)\n",
    "print(\"Duplicate list is y=  \",y)\n",
    "#add elements into x\n",
    "x.extend(['Vaibhav','Akshata'])\n",
    "print(\"Original list is x=   \",x)\n",
    "print(\"Duplicate list is y=  \",y)\n",
    "#memory address of variable\n",
    "print(\"Memory address of x is \",id(x))\n",
    "print(\"Memory adress of y is \",id(y))"
   ]
  },
  {
   "cell_type": "code",
   "execution_count": 18,
   "metadata": {},
   "outputs": [
    {
     "name": "stdout",
     "output_type": "stream",
     "text": [
      "Original list is x=    ['Narendra', 'Prashant', 'Sarthi']\n",
      "Duplicate list is y=   ['Narendra', 'Prashant', 'Sarthi']\n",
      "Original list is x=    ['Narendra', 'Prashant', 'Sarthi', 'Vaibhav', 'Akshata']\n",
      "Duplicate list is y=   ['Narendra', 'Prashant', 'Sarthi']\n",
      "Memory address of x is  1655901169984\n",
      "Memory adress of y is  1655901237120\n"
     ]
    }
   ],
   "source": [
    "x=['Narendra','Prashant','Sarthi']\n",
    "y=x.copy() # call copy() function\n",
    "print(\"Original list is x=   \",x)\n",
    "print(\"Duplicate list is y=  \",y)\n",
    "#add elements into x\n",
    "x.extend(['Vaibhav','Akshata'])\n",
    "print(\"Original list is x=   \",x)\n",
    "print(\"Duplicate list is y=  \",y)\n",
    "#memory address of variable\n",
    "print(\"Memory address of x is \",id(x))\n",
    "print(\"Memory adress of y is \",id(y))"
   ]
  },
  {
   "cell_type": "code",
   "execution_count": null,
   "metadata": {},
   "outputs": [],
   "source": [
    "# what is difference between copy() function in a list and assignment operator?"
   ]
  },
  {
   "cell_type": "code",
   "execution_count": 24,
   "metadata": {},
   "outputs": [
    {
     "name": "stdout",
     "output_type": "stream",
     "text": [
      "['Narendra', 'Prashant', 'Sarthi', 'Siddhant', 'Akshata']\n",
      "['Narendra', 'Deepali', 'Sarthi', 'Siddhant', 'Akshata']\n"
     ]
    }
   ],
   "source": [
    "# to replace list element by another element.\n",
    "student_name=['Narendra', 'Prashant', 'Sarthi', 'Vaibhav', 'Akshata']\n",
    "#replace vaibhav with siddhant \n",
    "index_number=student_name.index('Vaibhav')\n",
    "student_name[index_number]='Siddhant'\n",
    "print(student_name)\n",
    "student_name[1]='Deepali'\n",
    "print(student_name)"
   ]
  },
  {
   "cell_type": "code",
   "execution_count": 25,
   "metadata": {},
   "outputs": [
    {
     "data": {
      "text/plain": [
       "['Narendra', 'Deepali', 'Sarthi', 'Siddhant', 'Akshata']"
      ]
     },
     "execution_count": 25,
     "metadata": {},
     "output_type": "execute_result"
    }
   ],
   "source": [
    "#To delete element from a list\n",
    "student_name"
   ]
  },
  {
   "cell_type": "code",
   "execution_count": 26,
   "metadata": {},
   "outputs": [
    {
     "name": "stdout",
     "output_type": "stream",
     "text": [
      "['Narendra', 'Deepali', 'Sarthi', 'Siddhant']\n"
     ]
    }
   ],
   "source": [
    "#pop() by default delete last element of list\n",
    "student_name.pop()\n",
    "print(student_name)"
   ]
  },
  {
   "cell_type": "code",
   "execution_count": 27,
   "metadata": {},
   "outputs": [
    {
     "name": "stdout",
     "output_type": "stream",
     "text": [
      "['Narendra', 'Sarthi', 'Siddhant']\n"
     ]
    }
   ],
   "source": [
    "# remove () delete a particular element.\n",
    "student_name.remove('Deepali')\n",
    "print(student_name)"
   ]
  },
  {
   "cell_type": "code",
   "execution_count": 28,
   "metadata": {},
   "outputs": [
    {
     "name": "stdout",
     "output_type": "stream",
     "text": [
      "[91, 63, 48, 90, 23, 78, 45, 73, 12]\n"
     ]
    }
   ],
   "source": [
    "numbers=[12,73,45,78,23,90,48,63,91]\n",
    "numbers.reverse()\n",
    "print(numbers)"
   ]
  },
  {
   "cell_type": "code",
   "execution_count": 29,
   "metadata": {},
   "outputs": [
    {
     "name": "stdout",
     "output_type": "stream",
     "text": [
      "[12, 23, 45, 48, 63, 73, 78, 90, 91]\n"
     ]
    }
   ],
   "source": [
    "#arrange elements in an ascending order\n",
    "numbers.sort()\n",
    "print(numbers)"
   ]
  },
  {
   "cell_type": "code",
   "execution_count": 30,
   "metadata": {},
   "outputs": [
    {
     "name": "stdout",
     "output_type": "stream",
     "text": [
      "[91, 90, 78, 73, 63, 48, 45, 23, 12]\n"
     ]
    }
   ],
   "source": [
    "#arrange elements in descending order\n",
    "numbers.sort(reverse=True)\n",
    "print(numbers)"
   ]
  },
  {
   "cell_type": "code",
   "execution_count": 31,
   "metadata": {},
   "outputs": [
    {
     "data": {
      "text/plain": [
       "['Narendra', 'Prashant', 'Sarthi', 'Vaibhav', 'Akshata', 'Siddhant']"
      ]
     },
     "execution_count": 31,
     "metadata": {},
     "output_type": "execute_result"
    }
   ],
   "source": [
    "student_name=['Narendra', 'Prashant', 'Sarthi', 'Vaibhav', 'Akshata','Siddhant']\n",
    "student_name[::]\n"
   ]
  },
  {
   "cell_type": "code",
   "execution_count": 32,
   "metadata": {},
   "outputs": [
    {
     "data": {
      "text/plain": [
       "'Sarthi'"
      ]
     },
     "execution_count": 32,
     "metadata": {},
     "output_type": "execute_result"
    }
   ],
   "source": [
    "student_name[2]"
   ]
  },
  {
   "cell_type": "code",
   "execution_count": 33,
   "metadata": {},
   "outputs": [
    {
     "data": {
      "text/plain": [
       "['Narendra', 'Prashant', 'Sarthi', 'Vaibhav']"
      ]
     },
     "execution_count": 33,
     "metadata": {},
     "output_type": "execute_result"
    }
   ],
   "source": [
    "student_name[:4]"
   ]
  },
  {
   "cell_type": "code",
   "execution_count": 34,
   "metadata": {},
   "outputs": [
    {
     "data": {
      "text/plain": [
       "['Sarthi', 'Vaibhav', 'Akshata', 'Siddhant']"
      ]
     },
     "execution_count": 34,
     "metadata": {},
     "output_type": "execute_result"
    }
   ],
   "source": [
    "student_name[2:]"
   ]
  },
  {
   "cell_type": "code",
   "execution_count": 36,
   "metadata": {},
   "outputs": [
    {
     "name": "stdout",
     "output_type": "stream",
     "text": [
      "['Narendra', 'Prashant', 'Sarthi', 'Vaibhav', 'Akshata', 'Siddhant']\n"
     ]
    },
    {
     "data": {
      "text/plain": [
       "['Siddhant', 'Akshata', 'Vaibhav', 'Sarthi', 'Prashant', 'Narendra']"
      ]
     },
     "execution_count": 36,
     "metadata": {},
     "output_type": "execute_result"
    }
   ],
   "source": [
    "print(student_name)\n",
    "student_name[::-1]"
   ]
  },
  {
   "cell_type": "code",
   "execution_count": 37,
   "metadata": {},
   "outputs": [
    {
     "data": {
      "text/plain": [
       "['Narendra', 'Sarthi']"
      ]
     },
     "execution_count": 37,
     "metadata": {},
     "output_type": "execute_result"
    }
   ],
   "source": [
    "student_name[:3:2]"
   ]
  },
  {
   "cell_type": "code",
   "execution_count": 40,
   "metadata": {},
   "outputs": [
    {
     "name": "stdout",
     "output_type": "stream",
     "text": [
      "['Narendra', 'Prashant', 'Sarthi', 'Vaibhav', 'Akshata', 'Siddhant']\n"
     ]
    },
    {
     "data": {
      "text/plain": [
       "['Prashant', 'Sarthi', 'Vaibhav', 'Akshata', 'Siddhant']"
      ]
     },
     "execution_count": 40,
     "metadata": {},
     "output_type": "execute_result"
    }
   ],
   "source": [
    "print(student_name)\n",
    "student_name[1:6]"
   ]
  },
  {
   "cell_type": "code",
   "execution_count": 43,
   "metadata": {},
   "outputs": [
    {
     "name": "stdout",
     "output_type": "stream",
     "text": [
      "<class 'tuple'>\n"
     ]
    },
    {
     "data": {
      "text/plain": [
       "4"
      ]
     },
     "execution_count": 43,
     "metadata": {},
     "output_type": "execute_result"
    }
   ],
   "source": [
    "#tuple is defined by ()\n",
    "#tuple is an immutable data type.\n",
    "student_name=('Narendra', 'Prashant', 'Sarthi', 'Vaibhav', 'Akshata', 'Siddhant')\n",
    "print(type(student_name))\n",
    "student_name.index('Akshata')"
   ]
  },
  {
   "cell_type": "code",
   "execution_count": 44,
   "metadata": {},
   "outputs": [
    {
     "data": {
      "text/plain": [
       "1"
      ]
     },
     "execution_count": 44,
     "metadata": {},
     "output_type": "execute_result"
    }
   ],
   "source": [
    "student_name.count('Akshata')"
   ]
  },
  {
   "cell_type": "code",
   "execution_count": null,
   "metadata": {},
   "outputs": [],
   "source": []
  }
 ],
 "metadata": {
  "kernelspec": {
   "display_name": "Python 3",
   "language": "python",
   "name": "python3"
  },
  "language_info": {
   "codemirror_mode": {
    "name": "ipython",
    "version": 3
   },
   "file_extension": ".py",
   "mimetype": "text/x-python",
   "name": "python",
   "nbconvert_exporter": "python",
   "pygments_lexer": "ipython3",
   "version": "3.12.5"
  }
 },
 "nbformat": 4,
 "nbformat_minor": 2
}
