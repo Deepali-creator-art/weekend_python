{
 "cells": [
  {
   "cell_type": "code",
   "execution_count": null,
   "metadata": {},
   "outputs": [],
   "source": [
    "Dictionary is an initialize by {}\n",
    "Dictionary is defined by using {key:value}\n",
    "key=>columns\n",
    "value=>rows\n",
    "Dictionary is a muttable data type.\n",
    "Dictionary is an ordered data type.\n",
    "Dictionary is used to create an database table.\n",
    "Dictionary does not allow duplicate keys."
   ]
  },
  {
   "cell_type": "code",
   "execution_count": 2,
   "metadata": {},
   "outputs": [
    {
     "name": "stdout",
     "output_type": "stream",
     "text": [
      "{'Apple': 'Green', 'Banana': 'yellow', 'Orange': 'Orange'}\n"
     ]
    }
   ],
   "source": [
    "d1={'Apple':'red','Banana':'yellow','Orange':'Orange','Apple':'Green'}\n",
    "print(d1)"
   ]
  },
  {
   "cell_type": "code",
   "execution_count": 3,
   "metadata": {},
   "outputs": [
    {
     "data": {
      "text/plain": [
       "'Orange'"
      ]
     },
     "execution_count": 3,
     "metadata": {},
     "output_type": "execute_result"
    }
   ],
   "source": [
    "#get() is used to get a particular key element value\n",
    "d1.get('Orange')"
   ]
  },
  {
   "cell_type": "code",
   "execution_count": 4,
   "metadata": {},
   "outputs": [
    {
     "data": {
      "text/plain": [
       "'Green'"
      ]
     },
     "execution_count": 4,
     "metadata": {},
     "output_type": "execute_result"
    }
   ],
   "source": [
    "# key is an index.\n",
    "d1['Apple']"
   ]
  },
  {
   "cell_type": "code",
   "execution_count": 5,
   "metadata": {},
   "outputs": [
    {
     "name": "stdout",
     "output_type": "stream",
     "text": [
      "{'Apple': 'Green', 'Banana': 'yellow', 'Orange': 'Orange', 'Grapes': 'Green'}\n"
     ]
    }
   ],
   "source": [
    "d1.update({'Grapes':'Green'})\n",
    "print(d1)"
   ]
  },
  {
   "cell_type": "code",
   "execution_count": 6,
   "metadata": {},
   "outputs": [
    {
     "name": "stdout",
     "output_type": "stream",
     "text": [
      "{'Apple': 'Red', 'Banana': 'yellow', 'Orange': 'Orange', 'Grapes': 'Green'}\n"
     ]
    }
   ],
   "source": [
    "d1['Apple']='Red'\n",
    "print(d1)"
   ]
  },
  {
   "cell_type": "code",
   "execution_count": 8,
   "metadata": {},
   "outputs": [
    {
     "data": {
      "text/plain": [
       "('Grapes', 'Green')"
      ]
     },
     "execution_count": 8,
     "metadata": {},
     "output_type": "execute_result"
    }
   ],
   "source": [
    "#popitem() is used to remove by default last key:value pair\n",
    "d1.popitem()"
   ]
  },
  {
   "cell_type": "code",
   "execution_count": 9,
   "metadata": {},
   "outputs": [
    {
     "data": {
      "text/plain": [
       "'Orange'"
      ]
     },
     "execution_count": 9,
     "metadata": {},
     "output_type": "execute_result"
    }
   ],
   "source": [
    "# pop() is used to remove a particular key element.\n",
    "d1.pop('Orange')"
   ]
  },
  {
   "cell_type": "code",
   "execution_count": 10,
   "metadata": {},
   "outputs": [
    {
     "data": {
      "text/plain": [
       "{'Apple': 'Red', 'Banana': 'yellow'}"
      ]
     },
     "execution_count": 10,
     "metadata": {},
     "output_type": "execute_result"
    }
   ],
   "source": [
    "d1"
   ]
  },
  {
   "cell_type": "code",
   "execution_count": 11,
   "metadata": {},
   "outputs": [
    {
     "name": "stdout",
     "output_type": "stream",
     "text": [
      "{'emp1': {'employee_name': 'Prashant', 'skill': 'python'}, 'emp2': {'employee_name': 'Siddhi', 'skill': 'python'}}\n"
     ]
    }
   ],
   "source": [
    "#dictionary within dictionary\n",
    "employee_data={'emp1':{'employee_name':'Prashant','skill':'python'},\n",
    "               'emp2':{'employee_name':'Siddhi','skill':'python'}}\n",
    "print(employee_data)"
   ]
  },
  {
   "cell_type": "code",
   "execution_count": 12,
   "metadata": {},
   "outputs": [
    {
     "data": {
      "text/html": [
       "<div>\n",
       "<style scoped>\n",
       "    .dataframe tbody tr th:only-of-type {\n",
       "        vertical-align: middle;\n",
       "    }\n",
       "\n",
       "    .dataframe tbody tr th {\n",
       "        vertical-align: top;\n",
       "    }\n",
       "\n",
       "    .dataframe thead th {\n",
       "        text-align: right;\n",
       "    }\n",
       "</style>\n",
       "<table border=\"1\" class=\"dataframe\">\n",
       "  <thead>\n",
       "    <tr style=\"text-align: right;\">\n",
       "      <th></th>\n",
       "      <th>emp1</th>\n",
       "      <th>emp2</th>\n",
       "    </tr>\n",
       "  </thead>\n",
       "  <tbody>\n",
       "    <tr>\n",
       "      <th>employee_name</th>\n",
       "      <td>Prashant</td>\n",
       "      <td>Siddhi</td>\n",
       "    </tr>\n",
       "    <tr>\n",
       "      <th>skill</th>\n",
       "      <td>python</td>\n",
       "      <td>python</td>\n",
       "    </tr>\n",
       "  </tbody>\n",
       "</table>\n",
       "</div>"
      ],
      "text/plain": [
       "                   emp1    emp2\n",
       "employee_name  Prashant  Siddhi\n",
       "skill            python  python"
      ]
     },
     "execution_count": 12,
     "metadata": {},
     "output_type": "execute_result"
    }
   ],
   "source": [
    "import pandas as pd\n",
    "pd.DataFrame(employee_data)"
   ]
  },
  {
   "cell_type": "code",
   "execution_count": 13,
   "metadata": {},
   "outputs": [
    {
     "name": "stdout",
     "output_type": "stream",
     "text": [
      "{'emp1': {'employee_name': 'Prashant', 'skill': 'python'}, 'emp2': {'employee_name': 'Siddhi', 'skill': 'python'}, 'emp3': {'employee_name': 'Vaibhav', 'skill': 'python'}, 'emp4': {'employee_name': 'Narendra', 'skill': 'python'}}\n"
     ]
    }
   ],
   "source": [
    "employee_data.update({'emp3':{'employee_name':'Vaibhav','skill':'python'},\n",
    "               'emp4':{'employee_name':'Narendra','skill':'python'}})\n",
    "print(employee_data)"
   ]
  },
  {
   "cell_type": "code",
   "execution_count": 14,
   "metadata": {},
   "outputs": [
    {
     "data": {
      "text/plain": [
       "{'emp1': {'employee_name': 'Prashant', 'skill': 'python'},\n",
       " 'emp2': {'employee_name': 'Siddhi', 'skill': 'python'},\n",
       " 'emp3': {'employee_name': 'Vaibhav', 'skill': 'python'},\n",
       " 'emp4': {'employee_name': 'Narendra', 'skill': 'python'}}"
      ]
     },
     "execution_count": 14,
     "metadata": {},
     "output_type": "execute_result"
    }
   ],
   "source": [
    "employee_data"
   ]
  },
  {
   "cell_type": "code",
   "execution_count": 15,
   "metadata": {},
   "outputs": [
    {
     "data": {
      "text/plain": [
       "dict_items([('emp1', {'employee_name': 'Prashant', 'skill': 'python'}), ('emp2', {'employee_name': 'Siddhi', 'skill': 'python'}), ('emp3', {'employee_name': 'Vaibhav', 'skill': 'python'}), ('emp4', {'employee_name': 'Narendra', 'skill': 'python'})])"
      ]
     },
     "execution_count": 15,
     "metadata": {},
     "output_type": "execute_result"
    }
   ],
   "source": [
    "employee_data.items()"
   ]
  },
  {
   "cell_type": "code",
   "execution_count": 17,
   "metadata": {},
   "outputs": [
    {
     "data": {
      "text/plain": [
       "dict_keys(['emp1', 'emp2', 'emp3', 'emp4'])"
      ]
     },
     "execution_count": 17,
     "metadata": {},
     "output_type": "execute_result"
    }
   ],
   "source": [
    "employee_data.keys()"
   ]
  },
  {
   "cell_type": "code",
   "execution_count": 18,
   "metadata": {},
   "outputs": [
    {
     "data": {
      "text/plain": [
       "dict_values([{'employee_name': 'Prashant', 'skill': 'python'}, {'employee_name': 'Siddhi', 'skill': 'python'}, {'employee_name': 'Vaibhav', 'skill': 'python'}, {'employee_name': 'Narendra', 'skill': 'python'}])"
      ]
     },
     "execution_count": 18,
     "metadata": {},
     "output_type": "execute_result"
    }
   ],
   "source": [
    "employee_data.values()"
   ]
  },
  {
   "cell_type": "code",
   "execution_count": 19,
   "metadata": {},
   "outputs": [
    {
     "data": {
      "text/plain": [
       "{'employee_name': 'Vaibhav', 'skill': 'python'}"
      ]
     },
     "execution_count": 19,
     "metadata": {},
     "output_type": "execute_result"
    }
   ],
   "source": [
    "employee_data.get('emp3')"
   ]
  },
  {
   "cell_type": "code",
   "execution_count": 20,
   "metadata": {},
   "outputs": [
    {
     "data": {
      "text/plain": [
       "{'employee_name': 'Vaibhav', 'skill': 'python'}"
      ]
     },
     "execution_count": 20,
     "metadata": {},
     "output_type": "execute_result"
    }
   ],
   "source": [
    "employee_data['emp3']"
   ]
  },
  {
   "cell_type": "code",
   "execution_count": 21,
   "metadata": {},
   "outputs": [
    {
     "data": {
      "text/plain": [
       "'python'"
      ]
     },
     "execution_count": 21,
     "metadata": {},
     "output_type": "execute_result"
    }
   ],
   "source": [
    "employee_data['emp3']['skill']"
   ]
  },
  {
   "cell_type": "code",
   "execution_count": 22,
   "metadata": {},
   "outputs": [
    {
     "data": {
      "text/plain": [
       "{'emp1': {'employee_name': 'Prashant', 'skill': 'python'},\n",
       " 'emp2': {'employee_name': 'Siddhi', 'skill': 'python'},\n",
       " 'emp3': {'employee_name': 'Vaibhav', 'skill': 'python'},\n",
       " 'emp4': {'employee_name': 'Narendra', 'skill': 'java'}}"
      ]
     },
     "execution_count": 22,
     "metadata": {},
     "output_type": "execute_result"
    }
   ],
   "source": [
    "employee_data['emp4']['skill']='java'\n",
    "employee_data"
   ]
  },
  {
   "cell_type": "code",
   "execution_count": 23,
   "metadata": {},
   "outputs": [
    {
     "data": {
      "text/plain": [
       "{'emp1': {'employee_name': 'Prashant', 'skill': 'python'},\n",
       " 'emp2': {'employee_name': 'Akshata', 'skill': 'python'},\n",
       " 'emp3': {'employee_name': 'Vaibhav', 'skill': 'python'},\n",
       " 'emp4': {'employee_name': 'Narendra', 'skill': 'java'}}"
      ]
     },
     "execution_count": 23,
     "metadata": {},
     "output_type": "execute_result"
    }
   ],
   "source": [
    "employee_data['emp2']['employee_name']='Akshata'\n",
    "employee_data"
   ]
  },
  {
   "cell_type": "code",
   "execution_count": 4,
   "metadata": {},
   "outputs": [
    {
     "name": "stdout",
     "output_type": "stream",
     "text": [
      "siddhi not present in data\n"
     ]
    }
   ],
   "source": [
    "# Write a program to find particular person present in a dictionary or not.\n",
    "employee_data={'emp1': {'employee_name': 'Prashant', 'skill': 'python'},\n",
    " 'emp2': {'employee_name': 'Akshata', 'skill': 'python'},\n",
    " 'emp3': {'employee_name': 'Vaibhav', 'skill': 'python'},\n",
    " 'emp4': {'employee_name': 'Narendra', 'skill': 'java'}}\n",
    "# take a employee name from user side\n",
    "person_name=input(\"Enter the employee name\")\n",
    "for id in employee_data.keys():\n",
    "    if(employee_data[id]['employee_name']==person_name):\n",
    "        print(f\"{person_name} present in data\")\n",
    "        break\n",
    "else:\n",
    "    print(f\"{person_name} not present in data\")\n",
    "        \n",
    "        \n",
    "    \n",
    "    \n",
    "        \n",
    "    \n"
   ]
  }
 ],
 "metadata": {
  "kernelspec": {
   "display_name": "Python 3",
   "language": "python",
   "name": "python3"
  },
  "language_info": {
   "codemirror_mode": {
    "name": "ipython",
    "version": 3
   },
   "file_extension": ".py",
   "mimetype": "text/x-python",
   "name": "python",
   "nbconvert_exporter": "python",
   "pygments_lexer": "ipython3",
   "version": "3.12.5"
  }
 },
 "nbformat": 4,
 "nbformat_minor": 2
}
