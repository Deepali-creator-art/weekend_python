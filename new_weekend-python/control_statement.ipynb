{
 "cells": [
  {
   "cell_type": "code",
   "execution_count": 11,
   "metadata": {},
   "outputs": [
    {
     "name": "stdout",
     "output_type": "stream",
     "text": [
      "You are eligible for driving licence\n"
     ]
    }
   ],
   "source": [
    "#To check the driving licence eligibilty. age factor\n",
    "#static input\n",
    "age=45\n",
    "if(age>=18):\n",
    "    print(\"You are eligible for driving licence\")\n",
    "    "
   ]
  },
  {
   "cell_type": "code",
   "execution_count": 17,
   "metadata": {},
   "outputs": [
    {
     "name": "stdout",
     "output_type": "stream",
     "text": [
      "You are eligible for driving licence\n"
     ]
    }
   ],
   "source": [
    "#dynamic input\n",
    "age=int(input(\"Enter the age\"))\n",
    "if(age>=18):\n",
    "    print(\"You are eligible for driving licence\")\n",
    "else:\n",
    "    print(\"You are not eligible for driving licence\")\n"
   ]
  },
  {
   "cell_type": "code",
   "execution_count": 20,
   "metadata": {},
   "outputs": [
    {
     "name": "stdout",
     "output_type": "stream",
     "text": [
      "Item name : pen\n",
      "Quantity : 5\n",
      "Stock available : 3\n",
      "pen is not available in a stock\n"
     ]
    }
   ],
   "source": [
    "#To check particular item stock available or not.\n",
    "item=input(\"Enter the item\")\n",
    "quantity=int(input(\"Enter the quantity\"))\n",
    "stock_available=int(input(\"Enter stock quantity\"))\n",
    "print(\"Item name :\",item)\n",
    "print(\"Quantity :\",quantity)\n",
    "print(\"Stock available :\",stock_available)\n",
    "if(quantity<=stock_available):\n",
    "    print(f\"You can purchase {item} stock is available\")\n",
    "else:\n",
    "    print(f\"{item} is not available in a stock\")\n",
    "\n"
   ]
  },
  {
   "cell_type": "code",
   "execution_count": 27,
   "metadata": {},
   "outputs": [
    {
     "name": "stdout",
     "output_type": "stream",
     "text": [
      "35 is divisible by 5 and 7\n"
     ]
    }
   ],
   "source": [
    "#To check the given number is divisible by 5 or 7.\n",
    "number=int(input(\"Enter the number\"))\n",
    "if(number%5==0 and number%7==0):\n",
    "    print(f\"{number} is divisible by 5 and 7\")\n",
    "elif(number%5==0):\n",
    "    print(f\"{number} is divisible by 5\")\n",
    "elif(number%7==0):\n",
    "    print(f\"{number} is divisible by 7\")\n",
    "else:\n",
    "    print(f\"{number} is not divisible by 5 or 7\")"
   ]
  },
  {
   "cell_type": "code",
   "execution_count": 34,
   "metadata": {},
   "outputs": [
    {
     "name": "stdout",
     "output_type": "stream",
     "text": [
      "Language selection choice options are\n",
      "      1.Marathi\n",
      "      2.Hindi\n",
      "      3.English\n",
      "Welcome to English section\n"
     ]
    }
   ],
   "source": [
    "print(\"\"\"Language selection choice options are\n",
    "      1.Marathi\n",
    "      2.Hindi\n",
    "      3.English\"\"\")\n",
    "language_code=int(input(\"Enter the code option\")) #data type integer\n",
    "if(language_code==1):\n",
    "    print(\"Welcome to Marathi section\")\n",
    "elif(language_code==2):\n",
    "    print(\"Welcome to Hindi section\")\n",
    "elif(language_code==3):\n",
    "    print(\"Welcome to English section\")\n",
    "else:\n",
    "    print(\"Please enter valid option\")\n"
   ]
  },
  {
   "cell_type": "code",
   "execution_count": 41,
   "metadata": {},
   "outputs": [
    {
     "name": "stdout",
     "output_type": "stream",
     "text": [
      "Sorted first string is ['a', 'b', 'b', 'c', 'd']\n",
      "Sorted second string is ['a', 'b', 'c', 'd']\n",
      "Both strings abbcd and dcab are not anagram strings\n"
     ]
    }
   ],
   "source": [
    "#To check the given string anagram string or not.\n",
    "one_word=input(\"Enter the first string\")\n",
    "second_word=input(\"Enter the second string\")\n",
    "#convert string into sorted list\n",
    "s1=sorted(one_word)\n",
    "print(\"Sorted first string is\",s1)\n",
    "s2=sorted(second_word)\n",
    "print(\"Sorted second string is\",s2)\n",
    "if(s1==s2):\n",
    "    print(f\"Both strings {one_word} and {second_word} are anagram strings\")\n",
    "else:\n",
    "    print(f\"Both strings {one_word} and {second_word} are not anagram strings\")"
   ]
  },
  {
   "cell_type": "code",
   "execution_count": 44,
   "metadata": {},
   "outputs": [
    {
     "name": "stdout",
     "output_type": "stream",
     "text": [
      "Given phone number 8681409333 is valid\n"
     ]
    }
   ],
   "source": [
    "#To check the given phone number is valid or not.\n",
    "phone_number=input(\"Enter the phone number\")   #data type string \n",
    "if(len(phone_number)==10):\n",
    "    print(f\"Given phone number {phone_number} is valid\")\n",
    "else:\n",
    "    print(f\"Given phone number {phone_number} is not valid\")\n"
   ]
  },
  {
   "cell_type": "code",
   "execution_count": 49,
   "metadata": {},
   "outputs": [
    {
     "name": "stdout",
     "output_type": "stream",
     "text": [
      "Given character 456 is a digit\n"
     ]
    }
   ],
   "source": [
    "#To check the given character is alphabet or number or any special symbol.\n",
    "character=input(\"Enter the character\")\n",
    "if(character.isalpha()):\n",
    "    print(f\"Given character {character} is an alphabet\")\n",
    "elif(character.isdigit()):\n",
    "    print(f\"Given character {character} is a digit\")\n",
    "else:\n",
    "    print(f\"Given character {character} is a special character\")"
   ]
  },
  {
   "cell_type": "code",
   "execution_count": 50,
   "metadata": {},
   "outputs": [
    {
     "name": "stdout",
     "output_type": "stream",
     "text": [
      " Recharge packs \n",
      "      1.Rs.249 1 gb data/day\n",
      "      2.Rs.350 1.5 gb/day\n",
      "      3.Rs.444 2 gb/day\n",
      "      4.Rs.999 unlimited data\n",
      "Recharge amount 350 1.5 gb data/day\n"
     ]
    }
   ],
   "source": [
    "print(\"\"\" Recharge packs \n",
    "      1.Rs.249 1 gb data/day\n",
    "      2.Rs.350 1.5 gb/day\n",
    "      3.Rs.444 2 gb/day\n",
    "      4.Rs.999 unlimited data\"\"\")\n",
    "recharge_amount=int(input(\"Enter the mobile recharge amount\"))\n",
    "if(recharge_amount==249):\n",
    "    print(f\"Recharge amount {recharge_amount} 1 gb data/day\")\n",
    "elif(recharge_amount==350):\n",
    "    print(f\"Recharge amount {recharge_amount} 1.5 gb data/day\")\n",
    "elif(recharge_amount==444):\n",
    "    print(f\"Recharge amount {recharge_amount} 2 gb data/day\")\n",
    "elif(recharge_amount==999):\n",
    "    print(f\"Recharge amount {recharge_amount} unlimited data\")\n",
    "else:\n",
    "    print(\"please enter the valid amount\")\n",
    "\n"
   ]
  }
 ],
 "metadata": {
  "kernelspec": {
   "display_name": "Python 3",
   "language": "python",
   "name": "python3"
  },
  "language_info": {
   "codemirror_mode": {
    "name": "ipython",
    "version": 3
   },
   "file_extension": ".py",
   "mimetype": "text/x-python",
   "name": "python",
   "nbconvert_exporter": "python",
   "pygments_lexer": "ipython3",
   "version": "3.12.5"
  }
 },
 "nbformat": 4,
 "nbformat_minor": 2
}
