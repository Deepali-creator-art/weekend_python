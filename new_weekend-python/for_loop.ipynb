{
 "cells": [
  {
   "cell_type": "code",
   "execution_count": 2,
   "metadata": {},
   "outputs": [
    {
     "name": "stdout",
     "output_type": "stream",
     "text": [
      "V\n",
      "Good Morning\n",
      "a\n",
      "Good Morning\n",
      "i\n",
      "Good Morning\n",
      "b\n",
      "Good Morning\n",
      "h\n",
      "Good Morning\n",
      "a\n",
      "Good Morning\n",
      "v\n",
      "Good Morning\n"
     ]
    }
   ],
   "source": [
    "#for loop :=>string data type\n",
    "name='Vaibhav'\n",
    "for x in name:\n",
    "    print(x)\n",
    "    print(\"Good Morning\")\n"
   ]
  },
  {
   "cell_type": "code",
   "execution_count": 3,
   "metadata": {},
   "outputs": [
    {
     "name": "stdout",
     "output_type": "stream",
     "text": [
      "10\n",
      "20\n",
      "30\n",
      "40\n",
      "50\n"
     ]
    }
   ],
   "source": [
    "#for loop :=> list data type\n",
    "numbers=[10,20,30,40,50]\n",
    "for i in numbers:\n",
    "    print(i)"
   ]
  },
  {
   "cell_type": "code",
   "execution_count": 7,
   "metadata": {},
   "outputs": [
    {
     "name": "stdout",
     "output_type": "stream",
     "text": [
      "apple\n",
      "orange\n",
      "banana\n",
      "grapes\n",
      "apple\n"
     ]
    }
   ],
   "source": [
    "# for loop :=>tuple data type\n",
    "names=('apple','orange','banana','grapes','apple')\n",
    "for fruit in names:\n",
    "    print(fruit)"
   ]
  },
  {
   "cell_type": "code",
   "execution_count": 8,
   "metadata": {},
   "outputs": [
    {
     "name": "stdout",
     "output_type": "stream",
     "text": [
      "banana\n",
      "apple\n",
      "orange\n",
      "grapes\n"
     ]
    }
   ],
   "source": [
    "#for loop :=> set data type\n",
    "#set does not allow duplicate elements\n",
    "names={'apple','orange','banana','grapes','apple'}\n",
    "for i in names:\n",
    "    print(i)"
   ]
  },
  {
   "cell_type": "code",
   "execution_count": 10,
   "metadata": {},
   "outputs": [
    {
     "name": "stdout",
     "output_type": "stream",
     "text": [
      "0\n",
      "1\n",
      "2\n",
      "3\n",
      "4\n",
      "5\n",
      "6\n",
      "7\n",
      "8\n",
      "9\n"
     ]
    }
   ],
   "source": [
    "# for loop :=> range()\n",
    "for i in range(0,10):\n",
    "    print(i)"
   ]
  },
  {
   "cell_type": "code",
   "execution_count": 11,
   "metadata": {},
   "outputs": [
    {
     "name": "stdout",
     "output_type": "stream",
     "text": [
      "1\n",
      "2\n",
      "3\n",
      "4\n",
      "5\n",
      "6\n",
      "7\n",
      "8\n",
      "9\n",
      "10\n"
     ]
    }
   ],
   "source": [
    "for i in range(1,11):\n",
    "    print(i)"
   ]
  },
  {
   "cell_type": "code",
   "execution_count": 12,
   "metadata": {},
   "outputs": [
    {
     "name": "stdout",
     "output_type": "stream",
     "text": [
      "10\n",
      "9\n",
      "8\n",
      "7\n",
      "6\n",
      "5\n",
      "4\n",
      "3\n",
      "2\n",
      "1\n"
     ]
    }
   ],
   "source": [
    "for i in range(10,0,-1):\n",
    "    print(i)"
   ]
  },
  {
   "cell_type": "code",
   "execution_count": 17,
   "metadata": {},
   "outputs": [],
   "source": [
    "# for loop :=> dictionary data type\n",
    "data={'fruit_name':['apple','banana','orange','graphes'],\n",
    "      'color':['red','yellow','orange','green']}\n",
    "#we convert dictionary into dataframe\n",
    "import pandas as pd\n",
    "d1=pd.DataFrame(data)\n",
    "#convert dataframe into excel sheet\n",
    "d1.to_excel('fruit_data.xlsx')"
   ]
  },
  {
   "cell_type": "code",
   "execution_count": 19,
   "metadata": {},
   "outputs": [
    {
     "name": "stdout",
     "output_type": "stream",
     "text": [
      "   Unnamed: 0 fruit_name   color\n",
      "0           0      apple     red\n",
      "1           1     banana  yellow\n",
      "2           2     orange  orange\n",
      "3           3    graphes   green\n"
     ]
    }
   ],
   "source": [
    "import pandas as pd\n",
    "#excel sheet into dataframe\n",
    "data1=pd.read_excel('fruit_data.xlsx')\n",
    "print(data1)"
   ]
  },
  {
   "cell_type": "code",
   "execution_count": 21,
   "metadata": {},
   "outputs": [
    {
     "name": "stdout",
     "output_type": "stream",
     "text": [
      "{'fruit_name': ['apple', 'banana', 'orange', 'graphes'], 'color': ['red', 'yellow', 'orange', 'green']}\n"
     ]
    }
   ],
   "source": [
    "#for loop :=>dictionary\n",
    "data={'fruit_name':['apple','banana','orange','graphes'],\n",
    "      'color':['red','yellow','orange','green']}\n",
    "print(data)\n"
   ]
  },
  {
   "cell_type": "code",
   "execution_count": 22,
   "metadata": {},
   "outputs": [
    {
     "data": {
      "text/plain": [
       "dict_keys(['fruit_name', 'color'])"
      ]
     },
     "execution_count": 22,
     "metadata": {},
     "output_type": "execute_result"
    }
   ],
   "source": [
    "data.keys()"
   ]
  },
  {
   "cell_type": "code",
   "execution_count": 23,
   "metadata": {},
   "outputs": [
    {
     "data": {
      "text/plain": [
       "dict_values([['apple', 'banana', 'orange', 'graphes'], ['red', 'yellow', 'orange', 'green']])"
      ]
     },
     "execution_count": 23,
     "metadata": {},
     "output_type": "execute_result"
    }
   ],
   "source": [
    "data.values()"
   ]
  },
  {
   "cell_type": "code",
   "execution_count": 24,
   "metadata": {},
   "outputs": [
    {
     "data": {
      "text/plain": [
       "dict_items([('fruit_name', ['apple', 'banana', 'orange', 'graphes']), ('color', ['red', 'yellow', 'orange', 'green'])])"
      ]
     },
     "execution_count": 24,
     "metadata": {},
     "output_type": "execute_result"
    }
   ],
   "source": [
    "data.items()"
   ]
  },
  {
   "cell_type": "code",
   "execution_count": 26,
   "metadata": {},
   "outputs": [
    {
     "name": "stdout",
     "output_type": "stream",
     "text": [
      "fruit_name\n",
      "Hello\n",
      "color\n",
      "Hello\n"
     ]
    }
   ],
   "source": [
    "for i in data:\n",
    "    print(i)\n",
    "    print(\"Hello\")"
   ]
  },
  {
   "cell_type": "code",
   "execution_count": 27,
   "metadata": {},
   "outputs": [
    {
     "name": "stdout",
     "output_type": "stream",
     "text": [
      "fruit_name\n",
      "color\n"
     ]
    }
   ],
   "source": [
    "for i in data.keys():\n",
    "    print(i)"
   ]
  },
  {
   "cell_type": "code",
   "execution_count": 28,
   "metadata": {},
   "outputs": [
    {
     "name": "stdout",
     "output_type": "stream",
     "text": [
      "['apple', 'banana', 'orange', 'graphes']\n",
      "Hi\n",
      "['red', 'yellow', 'orange', 'green']\n",
      "Hi\n"
     ]
    }
   ],
   "source": [
    "for i in data.values():\n",
    "    print(i)\n",
    "    print(\"Hi\")"
   ]
  },
  {
   "cell_type": "code",
   "execution_count": 32,
   "metadata": {},
   "outputs": [
    {
     "name": "stdout",
     "output_type": "stream",
     "text": [
      "fruit_name\n",
      "['apple', 'banana', 'orange', 'graphes']\n",
      "hello\n",
      "color\n",
      "['red', 'yellow', 'orange', 'green']\n",
      "hello\n"
     ]
    }
   ],
   "source": [
    "for i,j in data.items():\n",
    "    print(i)\n",
    "    print(j)\n",
    "    print(\"hello\")"
   ]
  },
  {
   "cell_type": "code",
   "execution_count": 34,
   "metadata": {},
   "outputs": [
    {
     "name": "stdout",
     "output_type": "stream",
     "text": [
      "Akshata\n",
      "Siddhant\n",
      "Sakshi\n",
      "Prashant\n"
     ]
    }
   ],
   "source": [
    "#To filter the names from student name those are containing an alphabet 's' \n",
    "student_name=['Akshata','Vaibhav','Siddhant','Sakshi','Prashant','Narendra']\n",
    "for name in student_name:\n",
    "    if('s' in name or 'S' in name):\n",
    "        print(name)"
   ]
  },
  {
   "cell_type": "code",
   "execution_count": 36,
   "metadata": {},
   "outputs": [
    {
     "name": "stdout",
     "output_type": "stream",
     "text": [
      "Number 11 square is 121\n",
      "Number 12 square is 144\n",
      "Number 13 square is 169\n",
      "Number 14 square is 196\n",
      "Number 15 square is 225\n",
      "Number 16 square is 256\n",
      "Number 17 square is 289\n",
      "Number 18 square is 324\n",
      "Number 19 square is 361\n",
      "Number 20 square is 400\n"
     ]
    }
   ],
   "source": [
    "#To display the square of numbers from 11 to 20.\n",
    "for i in range(11,21):\n",
    "    print(f\"Number {i} square is {i*i}\")"
   ]
  },
  {
   "cell_type": "code",
   "execution_count": 37,
   "metadata": {},
   "outputs": [
    {
     "data": {
      "text/plain": [
       "'TTT'"
      ]
     },
     "execution_count": 37,
     "metadata": {},
     "output_type": "execute_result"
    }
   ],
   "source": [
    "#operator overloading\n",
    "'T' *3"
   ]
  },
  {
   "cell_type": "code",
   "execution_count": 38,
   "metadata": {},
   "outputs": [
    {
     "data": {
      "text/plain": [
       "[1, 2, 3, 4, 1, 2, 3, 4]"
      ]
     },
     "execution_count": 38,
     "metadata": {},
     "output_type": "execute_result"
    }
   ],
   "source": [
    "[1,2,3,4]*2"
   ]
  },
  {
   "cell_type": "code",
   "execution_count": 39,
   "metadata": {},
   "outputs": [
    {
     "data": {
      "text/plain": [
       "(1, 2, 3, 4, 1, 2, 3, 4)"
      ]
     },
     "execution_count": 39,
     "metadata": {},
     "output_type": "execute_result"
    }
   ],
   "source": [
    "(1,2,3,4)*2"
   ]
  },
  {
   "cell_type": "code",
   "execution_count": 40,
   "metadata": {},
   "outputs": [
    {
     "name": "stdout",
     "output_type": "stream",
     "text": [
      "*\n",
      "**\n",
      "***\n",
      "****\n",
      "*****\n"
     ]
    }
   ],
   "source": [
    "for i in range(1,6):\n",
    "    print('*' * i)"
   ]
  },
  {
   "cell_type": "code",
   "execution_count": 41,
   "metadata": {},
   "outputs": [
    {
     "data": {
      "text/plain": [
       "120"
      ]
     },
     "execution_count": 41,
     "metadata": {},
     "output_type": "execute_result"
    }
   ],
   "source": [
    "#To display the factorial of numbers from 1 to 5.\n",
    "import math \n",
    "math.factorial(5)"
   ]
  },
  {
   "cell_type": "code",
   "execution_count": 43,
   "metadata": {},
   "outputs": [
    {
     "name": "stdout",
     "output_type": "stream",
     "text": [
      "1\n",
      "2\n",
      "6\n",
      "24\n",
      "120\n"
     ]
    }
   ],
   "source": [
    "for i in range(1,6):\n",
    "    print(math.factorial(i))"
   ]
  },
  {
   "cell_type": "code",
   "execution_count": 50,
   "metadata": {},
   "outputs": [
    {
     "name": "stdout",
     "output_type": "stream",
     "text": [
      "Outer loop\n",
      "Value of i is  1\n",
      "Inner loop\n",
      "Value of j is 1\n",
      "Value of j is 2\n",
      "Outer loop\n",
      "Value of i is  2\n",
      "Inner loop\n",
      "Value of j is 1\n",
      "Value of j is 2\n",
      "Outer loop\n",
      "Value of i is  3\n",
      "Inner loop\n",
      "Value of j is 1\n",
      "Value of j is 2\n"
     ]
    }
   ],
   "source": [
    "#nested for loop\n",
    "for i in range(1,4):\n",
    "    print(\"Outer loop\")\n",
    "    print(\"Value of i is \",i)\n",
    "    print(\"Inner loop\")\n",
    "    for j in range(1,3):\n",
    "        print(\"Value of j is\",j)"
   ]
  },
  {
   "cell_type": "code",
   "execution_count": null,
   "metadata": {},
   "outputs": [],
   "source": []
  }
 ],
 "metadata": {
  "kernelspec": {
   "display_name": "Python 3",
   "language": "python",
   "name": "python3"
  },
  "language_info": {
   "codemirror_mode": {
    "name": "ipython",
    "version": 3
   },
   "file_extension": ".py",
   "mimetype": "text/x-python",
   "name": "python",
   "nbconvert_exporter": "python",
   "pygments_lexer": "ipython3",
   "version": "3.12.5"
  }
 },
 "nbformat": 4,
 "nbformat_minor": 2
}
