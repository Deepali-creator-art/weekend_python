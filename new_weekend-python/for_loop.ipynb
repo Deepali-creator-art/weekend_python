{
 "cells": [
  {
   "cell_type": "code",
   "execution_count": 2,
   "metadata": {},
   "outputs": [
    {
     "name": "stdout",
     "output_type": "stream",
     "text": [
      "V\n",
      "Good Morning\n",
      "a\n",
      "Good Morning\n",
      "i\n",
      "Good Morning\n",
      "b\n",
      "Good Morning\n",
      "h\n",
      "Good Morning\n",
      "a\n",
      "Good Morning\n",
      "v\n",
      "Good Morning\n"
     ]
    }
   ],
   "source": [
    "#for loop :=>string data type\n",
    "name='Vaibhav'\n",
    "for x in name:\n",
    "    print(x)\n",
    "    print(\"Good Morning\")\n"
   ]
  },
  {
   "cell_type": "code",
   "execution_count": 3,
   "metadata": {},
   "outputs": [
    {
     "name": "stdout",
     "output_type": "stream",
     "text": [
      "10\n",
      "20\n",
      "30\n",
      "40\n",
      "50\n"
     ]
    }
   ],
   "source": [
    "#for loop :=> list data type\n",
    "numbers=[10,20,30,40,50]\n",
    "for i in numbers:\n",
    "    print(i)"
   ]
  },
  {
   "cell_type": "code",
   "execution_count": 7,
   "metadata": {},
   "outputs": [
    {
     "name": "stdout",
     "output_type": "stream",
     "text": [
      "apple\n",
      "orange\n",
      "banana\n",
      "grapes\n",
      "apple\n"
     ]
    }
   ],
   "source": [
    "# for loop :=>tuple data type\n",
    "names=('apple','orange','banana','grapes','apple')\n",
    "for fruit in names:\n",
    "    print(fruit)"
   ]
  },
  {
   "cell_type": "code",
   "execution_count": 8,
   "metadata": {},
   "outputs": [
    {
     "name": "stdout",
     "output_type": "stream",
     "text": [
      "banana\n",
      "apple\n",
      "orange\n",
      "grapes\n"
     ]
    }
   ],
   "source": [
    "#for loop :=> set data type\n",
    "#set does not allow duplicate elements\n",
    "names={'apple','orange','banana','grapes','apple'}\n",
    "for i in names:\n",
    "    print(i)"
   ]
  },
  {
   "cell_type": "code",
   "execution_count": 10,
   "metadata": {},
   "outputs": [
    {
     "name": "stdout",
     "output_type": "stream",
     "text": [
      "0\n",
      "1\n",
      "2\n",
      "3\n",
      "4\n",
      "5\n",
      "6\n",
      "7\n",
      "8\n",
      "9\n"
     ]
    }
   ],
   "source": [
    "# for loop :=> range()\n",
    "for i in range(0,10):\n",
    "    print(i)"
   ]
  },
  {
   "cell_type": "code",
   "execution_count": 11,
   "metadata": {},
   "outputs": [
    {
     "name": "stdout",
     "output_type": "stream",
     "text": [
      "1\n",
      "2\n",
      "3\n",
      "4\n",
      "5\n",
      "6\n",
      "7\n",
      "8\n",
      "9\n",
      "10\n"
     ]
    }
   ],
   "source": [
    "for i in range(1,11):\n",
    "    print(i)"
   ]
  },
  {
   "cell_type": "code",
   "execution_count": 12,
   "metadata": {},
   "outputs": [
    {
     "name": "stdout",
     "output_type": "stream",
     "text": [
      "10\n",
      "9\n",
      "8\n",
      "7\n",
      "6\n",
      "5\n",
      "4\n",
      "3\n",
      "2\n",
      "1\n"
     ]
    }
   ],
   "source": [
    "for i in range(10,0,-1):\n",
    "    print(i)"
   ]
  },
  {
   "cell_type": "code",
   "execution_count": 17,
   "metadata": {},
   "outputs": [],
   "source": [
    "# for loop :=> dictionary data type\n",
    "data={'fruit_name':['apple','banana','orange','graphes'],\n",
    "      'color':['red','yellow','orange','green']}\n",
    "#we convert dictionary into dataframe\n",
    "import pandas as pd\n",
    "d1=pd.DataFrame(data)\n",
    "#convert dataframe into excel sheet\n",
    "d1.to_excel('fruit_data.xlsx')"
   ]
  },
  {
   "cell_type": "code",
   "execution_count": 18,
   "metadata": {},
   "outputs": [
    {
     "name": "stdout",
     "output_type": "stream",
     "text": [
      "   Unnamed: 0 fruit_name   color\n",
      "0           0      apple     red\n",
      "1           1     banana  yellow\n",
      "2           2     orange  orange\n",
      "3           3    graphes   green\n"
     ]
    }
   ],
   "source": [
    "import pandas as pd\n",
    "#excel sheet into dataframe\n",
    "data=pd.read_excel('fruit_data.xlsx')\n",
    "print(data)"
   ]
  },
  {
   "cell_type": "code",
   "execution_count": null,
   "metadata": {},
   "outputs": [],
   "source": []
  }
 ],
 "metadata": {
  "kernelspec": {
   "display_name": "Python 3",
   "language": "python",
   "name": "python3"
  },
  "language_info": {
   "codemirror_mode": {
    "name": "ipython",
    "version": 3
   },
   "file_extension": ".py",
   "mimetype": "text/x-python",
   "name": "python",
   "nbconvert_exporter": "python",
   "pygments_lexer": "ipython3",
   "version": "3.12.5"
  }
 },
 "nbformat": 4,
 "nbformat_minor": 2
}
