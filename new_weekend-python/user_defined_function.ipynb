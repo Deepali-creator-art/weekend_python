{
 "cells": [
  {
   "cell_type": "code",
   "execution_count": 1,
   "metadata": {},
   "outputs": [
    {
     "name": "stdout",
     "output_type": "stream",
     "text": [
      "Welcome\n"
     ]
    }
   ],
   "source": [
    "#function without parameter\n",
    "def display():\n",
    "    print(\"Welcome\")\n",
    "display()"
   ]
  },
  {
   "cell_type": "code",
   "execution_count": 7,
   "metadata": {},
   "outputs": [
    {
     "name": "stdout",
     "output_type": "stream",
     "text": [
      "x= 100\n",
      "Welcome\n",
      "x= 12.45\n",
      "Welcome\n",
      "x= python\n",
      "Welcome\n",
      "x= [10, 20, 30, 40, 50]\n",
      "Welcome\n",
      "x= {12, 45, 23}\n",
      "Welcome\n"
     ]
    }
   ],
   "source": [
    "#function with parameter=>constant value\n",
    "def display(x):\n",
    "    print(\"x=\",x)\n",
    "    print(\"Welcome\")\n",
    "display(100) #function call\n",
    "display(12.45) #function call\n",
    "display('python') #function call\n",
    "display([10,20,30,40,50])#function call\n",
    "display({12,23,45})#function call"
   ]
  },
  {
   "cell_type": "code",
   "execution_count": 9,
   "metadata": {},
   "outputs": [
    {
     "name": "stdout",
     "output_type": "stream",
     "text": [
      "Welcome to  Akshata\n"
     ]
    }
   ],
   "source": [
    "#function with parameter=>variable value\n",
    "#variables those are defined in function definition.\n",
    "# are called formal parameter.\n",
    "def show(user): \n",
    "    print(\"Welcome to \",user)\n",
    "name='Akshata'\n",
    "show(name) #In function call, variables are called actual parameter."
   ]
  },
  {
   "cell_type": "code",
   "execution_count": 13,
   "metadata": {},
   "outputs": [
    {
     "name": "stdout",
     "output_type": "stream",
     "text": [
      "Welcome to  vaibhav\n"
     ]
    }
   ],
   "source": [
    "def show(user): \n",
    "    print(\"Welcome to \",user)\n",
    "name=input(\"Enter the user name\")\n",
    "show(name) #function call"
   ]
  },
  {
   "cell_type": "code",
   "execution_count": 17,
   "metadata": {},
   "outputs": [
    {
     "name": "stdout",
     "output_type": "stream",
     "text": [
      "Welcome to Marathi section\n",
      "Welcome to Hindi section\n",
      "Welcome to English section\n"
     ]
    }
   ],
   "source": [
    "#function with default parameter value\n",
    "def example(language='Marathi'):\n",
    "    print(f\"Welcome to {language} section\")\n",
    "example() #function call\n",
    "example('Hindi') #function call\n",
    "example(\"English\") #function call"
   ]
  },
  {
   "cell_type": "code",
   "execution_count": 19,
   "metadata": {},
   "outputs": [
    {
     "name": "stdout",
     "output_type": "stream",
     "text": [
      "Phone call done by 1234567890\n",
      "Phone call done by 9876543210\n"
     ]
    }
   ],
   "source": [
    "def phone_call(sim_number=1234567890):\n",
    "    print(f\"Phone call done by {sim_number}\")\n",
    "phone_call() #function call without parameter\n",
    "phone_call(9876543210) #function call with parameter"
   ]
  },
  {
   "cell_type": "code",
   "execution_count": 20,
   "metadata": {},
   "outputs": [
    {
     "name": "stdout",
     "output_type": "stream",
     "text": [
      "x=C y=C++ z=Java\n"
     ]
    }
   ],
   "source": [
    "#function call with no. of parameters\n",
    "def test(x,y,z):\n",
    "    print(f\"x={x} y={y} z={z}\")\n",
    "test('C','C++','Java')"
   ]
  },
  {
   "cell_type": "code",
   "execution_count": 21,
   "metadata": {},
   "outputs": [
    {
     "name": "stdout",
     "output_type": "stream",
     "text": [
      "x=C++ y=C z=Java\n"
     ]
    }
   ],
   "source": [
    "def test(y,x,z):\n",
    "    print(f\"x={x} y={y} z={z}\")\n",
    "test('C','C++','Java')"
   ]
  },
  {
   "cell_type": "code",
   "execution_count": 26,
   "metadata": {},
   "outputs": [
    {
     "name": "stdout",
     "output_type": "stream",
     "text": [
      "x=C++ y=C z=Java\n",
      "x=sql y=reactjs z=python\n",
      "x=django y=flask z=python\n",
      "x=django y=powerBi z=python\n"
     ]
    }
   ],
   "source": [
    "def test(y='powerBi',x='django',z='python'):\n",
    "    print(f\"x={x} y={y} z={z}\")\n",
    "test('C','C++','Java') #function call\n",
    "test('reactjs','sql') #function call\n",
    "test('flask') #function call\n",
    "test() #function call\n"
   ]
  },
  {
   "cell_type": "code",
   "execution_count": 31,
   "metadata": {},
   "outputs": [
    {
     "name": "stdout",
     "output_type": "stream",
     "text": [
      "Welcome to ('Deepali', 'Narendra', 'Siddhant')\n"
     ]
    }
   ],
   "source": [
    "#function with unknown parameters =>\n",
    "#function definition parameter prefix with *.\n",
    "def login(*user):\n",
    "    print(f\"Welcome to {user}\")\n",
    "login('Deepali','Narendra','Siddhant')"
   ]
  },
  {
   "cell_type": "code",
   "execution_count": 32,
   "metadata": {},
   "outputs": [
    {
     "name": "stdout",
     "output_type": "stream",
     "text": [
      "Welcome to ['Deepali', 'Narendra', 'Siddhant']\n"
     ]
    }
   ],
   "source": [
    "def login(user):\n",
    "    print(f\"Welcome to {user}\")\n",
    "login(['Deepali','Narendra','Siddhant'])"
   ]
  },
  {
   "cell_type": "code",
   "execution_count": 35,
   "metadata": {},
   "outputs": [
    {
     "name": "stdout",
     "output_type": "stream",
     "text": [
      "Welcome to vaibhav\n",
      "Welcome to Akshata\n"
     ]
    }
   ],
   "source": [
    "#function with keyword parameters\n",
    "def info(username,password):\n",
    "    print(f\"Welcome to {username}\")\n",
    "info('vaibhav','1234') #function call\n",
    "info(username='Akshata',password='12345') #function call with keyword parameter"
   ]
  },
  {
   "cell_type": "code",
   "execution_count": 39,
   "metadata": {},
   "outputs": [
    {
     "name": "stdout",
     "output_type": "stream",
     "text": [
      "p=10 q=20 r=30\n"
     ]
    }
   ],
   "source": [
    "def test(q,r,p):\n",
    "    print(f\"p={p} q={q} r={r}\")\n",
    "test(p=10,q=20,r=30)"
   ]
  },
  {
   "cell_type": "code",
   "execution_count": 41,
   "metadata": {},
   "outputs": [
    {
     "name": "stdout",
     "output_type": "stream",
     "text": [
      "{'p': 10, 'q': 20, 'r': 30}\n"
     ]
    }
   ],
   "source": [
    "#function call with unknown keyword arguments\n",
    "#function definition variable prefix with **\n",
    "def test(**value):\n",
    "    print(value)\n",
    "test(p=10,q=20,r=30)"
   ]
  },
  {
   "cell_type": "code",
   "execution_count": 44,
   "metadata": {},
   "outputs": [
    {
     "name": "stdout",
     "output_type": "stream",
     "text": [
      "{'username': ['Raj', 'Rani', 'Siddhi'], 'password': ('1234', '4567', '7890')}\n"
     ]
    }
   ],
   "source": [
    "def login(**args):\n",
    "    print(args)\n",
    "login(username=['Raj','Rani','Siddhi'],password=('1234','4567','7890'))"
   ]
  },
  {
   "cell_type": "code",
   "execution_count": 45,
   "metadata": {},
   "outputs": [
    {
     "name": "stdout",
     "output_type": "stream",
     "text": [
      "Square of numbers 4\n",
      "Square of numbers 36\n",
      "Square of numbers 64\n",
      "Square of numbers 81\n",
      "Square of numbers 100\n"
     ]
    }
   ],
   "source": [
    "#Write a function to display the square of numbers of a given list.\n",
    "def square_number(numbers):\n",
    "    for num in numbers:\n",
    "        print(\"Square of numbers\",num*num)\n",
    "square_number([2,6,8,9,10]) #functon call"
   ]
  }
 ],
 "metadata": {
  "kernelspec": {
   "display_name": "Python 3",
   "language": "python",
   "name": "python3"
  },
  "language_info": {
   "codemirror_mode": {
    "name": "ipython",
    "version": 3
   },
   "file_extension": ".py",
   "mimetype": "text/x-python",
   "name": "python",
   "nbconvert_exporter": "python",
   "pygments_lexer": "ipython3",
   "version": "3.12.5"
  }
 },
 "nbformat": 4,
 "nbformat_minor": 2
}
