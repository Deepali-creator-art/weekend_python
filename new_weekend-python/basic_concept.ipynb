{
 "cells": [
  {
   "cell_type": "markdown",
   "metadata": {},
   "source": [
    "Keyword"
   ]
  },
  {
   "cell_type": "code",
   "execution_count": 5,
   "metadata": {},
   "outputs": [
    {
     "name": "stdout",
     "output_type": "stream",
     "text": [
      "['False', 'None', 'True', 'and', 'as', 'assert', 'async', 'await', 'break', 'class', 'continue', 'def', 'del', 'elif', 'else', 'except', 'finally', 'for', 'from', 'global', 'if', 'import', 'in', 'is', 'lambda', 'nonlocal', 'not', 'or', 'pass', 'raise', 'return', 'try', 'while', 'with', 'yield']\n"
     ]
    }
   ],
   "source": [
    "import keyword\n",
    "print(keyword.kwlist)\n"
   ]
  },
  {
   "cell_type": "code",
   "execution_count": 7,
   "metadata": {},
   "outputs": [
    {
     "name": "stdout",
     "output_type": "stream",
     "text": [
      "Priti Akshay Akshata\n"
     ]
    }
   ],
   "source": [
    "#assignment statement\n",
    "x,y,z='Akshay','Akshata','Priti'\n",
    "print(z,x,y)\n"
   ]
  },
  {
   "cell_type": "code",
   "execution_count": 8,
   "metadata": {},
   "outputs": [
    {
     "name": "stdout",
     "output_type": "stream",
     "text": [
      "python python python\n"
     ]
    }
   ],
   "source": [
    "#single value assigned to multiple variables\n",
    "p=q=r='python'\n",
    "print(p,q,r)"
   ]
  },
  {
   "cell_type": "code",
   "execution_count": 13,
   "metadata": {},
   "outputs": [
    {
     "name": "stdout",
     "output_type": "stream",
     "text": [
      "88\n"
     ]
    }
   ],
   "source": [
    "# \\ (backslash operator) is used to continue a multiline coding part.\n",
    "result=1+2+4+5+6 \\\n",
    "+7+8+9 \\\n",
    "+10+11 \\\n",
    "+12+13\n",
    "print(result)"
   ]
  },
  {
   "cell_type": "code",
   "execution_count": 1,
   "metadata": {},
   "outputs": [
    {
     "name": "stdout",
     "output_type": "stream",
     "text": [
      "My firstname is Vaibhav lastname is Patil\n"
     ]
    }
   ],
   "source": [
    "firstname='Vaibhav'\n",
    "lastname='Patil'\n",
    "# print function is used to read value of variable.\n",
    "print(\"My firstname is\",firstname,\"lastname is\",lastname)"
   ]
  },
  {
   "cell_type": "code",
   "execution_count": 16,
   "metadata": {},
   "outputs": [
    {
     "name": "stdout",
     "output_type": "stream",
     "text": [
      "You are credited amount 30000 now your current balance is 80000\n"
     ]
    }
   ],
   "source": [
    "balance_amount=50000\n",
    "credit_amount=30000\n",
    "balance_amount=balance_amount+credit_amount\n",
    "print(\"You are credited amount\",credit_amount,\"now your current balance is\",balance_amount)\n"
   ]
  },
  {
   "cell_type": "code",
   "execution_count": 21,
   "metadata": {},
   "outputs": [
    {
     "name": "stdout",
     "output_type": "stream",
     "text": [
      "I like panipuri and don't like burger\n",
      "I like burger don't like panipuri\n"
     ]
    }
   ],
   "source": [
    "# fstring => To read a value of variable inside a print function.\n",
    "x='panipuri'\n",
    "y='burger'\n",
    "print(f\"I like {x} and don't like {y}\")\n",
    "print(\"I like\",y,\"don't like\",x)"
   ]
  },
  {
   "cell_type": "code",
   "execution_count": 3,
   "metadata": {},
   "outputs": [
    {
     "data": {
      "text/plain": [
       "'akshata'"
      ]
     },
     "execution_count": 3,
     "metadata": {},
     "output_type": "execute_result"
    }
   ],
   "source": [
    "name=input(\"Enter the name\")\n",
    "name"
   ]
  },
  {
   "cell_type": "code",
   "execution_count": 4,
   "metadata": {},
   "outputs": [
    {
     "data": {
      "text/plain": [
       "'4576787989'"
      ]
     },
     "execution_count": 4,
     "metadata": {},
     "output_type": "execute_result"
    }
   ],
   "source": [
    "phone_number=input(\"Enter the phone number\")\n",
    "phone_number"
   ]
  },
  {
   "cell_type": "code",
   "execution_count": null,
   "metadata": {},
   "outputs": [
    {
     "name": "stdout",
     "output_type": "stream",
     "text": [
      "10\n",
      "<class 'int'>\n"
     ]
    }
   ],
   "source": [
    "x=10\n",
    "# use print() when you want to display more than one output.\n",
    "print(x)\n",
    "print(type(x))"
   ]
  },
  {
   "cell_type": "code",
   "execution_count": 7,
   "metadata": {},
   "outputs": [
    {
     "name": "stdout",
     "output_type": "stream",
     "text": [
      "<class 'float'>\n"
     ]
    }
   ],
   "source": [
    "y=3.14\n",
    "print(type(y))"
   ]
  },
  {
   "cell_type": "code",
   "execution_count": 14,
   "metadata": {},
   "outputs": [
    {
     "name": "stdout",
     "output_type": "stream",
     "text": [
      "<class 'str'>\n"
     ]
    }
   ],
   "source": [
    "z='python'\n",
    "print(type(z))"
   ]
  },
  {
   "cell_type": "code",
   "execution_count": 13,
   "metadata": {},
   "outputs": [
    {
     "name": "stdout",
     "output_type": "stream",
     "text": [
      "50\n",
      "-10 600\n"
     ]
    }
   ],
   "source": [
    "a=20\n",
    "b=30\n",
    "print(a+b)\n",
    "print(a-b,a*b)"
   ]
  },
  {
   "cell_type": "code",
   "execution_count": null,
   "metadata": {},
   "outputs": [
    {
     "name": "stdout",
     "output_type": "stream",
     "text": [
      "Data type of num1 is <class 'str'>\n",
      "Data type of num2 <class 'str'>\n",
      "Addition of num1 78 and 89 is 7889\n",
      "Addition of num1 78 and num2 89 is 7889\n"
     ]
    }
   ],
   "source": [
    "#input() by default data type is string.\n",
    "num1=input(\"Enter the number\")\n",
    "print(\"Data type of num1 is\",type(num1))\n",
    "num2=input(\"Enter the second number\")\n",
    "print(\"Data type of num2\",type(num2))\n",
    "print(\"Addition of num1\",num1,\"and\",num2,\"is\",num1+num2)\n",
    "print(f\"Addition of num1 {num1} and num2 {num2} is {num1+num2}\")"
   ]
  },
  {
   "cell_type": "code",
   "execution_count": null,
   "metadata": {},
   "outputs": [
    {
     "name": "stdout",
     "output_type": "stream",
     "text": [
      "Data type of num1 is <class 'int'>\n",
      "Data type of num2 <class 'int'>\n",
      "Addition of num1 67 and num2 89 is 156\n"
     ]
    }
   ],
   "source": [
    "#input() by default data type is string.Typecast means convert one data type into another data type.\n",
    "#convert string value into integer value.\n",
    "num1=int(input(\"Enter the number\"))\n",
    "print(\"Data type of num1 is\",type(num1))\n",
    "num2=int(input(\"Enter the second number\"))\n",
    "print(\"Data type of num2\",type(num2))\n",
    "#print(\"Addition of num1\",num1,\"and\",num2,\"is\",num1+num2)\n",
    "print(f\"Addition of num1 {num1} and num2 {num2} is {num1+num2}\")"
   ]
  },
  {
   "cell_type": "code",
   "execution_count": 21,
   "metadata": {},
   "outputs": [
    {
     "name": "stdout",
     "output_type": "stream",
     "text": [
      "Data type of num1 is <class 'float'>\n",
      "Data type of num2 <class 'float'>\n",
      "Addition of num1 89.0 and num2 78.5 is 167.5\n"
     ]
    }
   ],
   "source": [
    "#input() by default data type is string.Typecast means convert one data type into another data type.\n",
    "#convert string value into float value.\n",
    "num1=float(input(\"Enter the number\"))\n",
    "print(\"Data type of num1 is\",type(num1))\n",
    "num2=float(input(\"Enter the second number\"))\n",
    "print(\"Data type of num2\",type(num2))\n",
    "#print(\"Addition of num1\",num1,\"and\",num2,\"is\",num1+num2)\n",
    "print(f\"Addition of num1 {num1} and num2 {num2} is {num1+num2}\")"
   ]
  },
  {
   "cell_type": "code",
   "execution_count": 23,
   "metadata": {},
   "outputs": [
    {
     "name": "stdout",
     "output_type": "stream",
     "text": [
      "Data type of num1 is <class 'complex'>\n",
      "Data type of num2 <class 'complex'>\n",
      "Addition of num1 (6+7j) and num2 (8+7j) is (14+14j)\n"
     ]
    }
   ],
   "source": [
    "#input() by default data type is string.Typecast means convert one data type into another data type.\n",
    "#convert string value into complex value.\n",
    "num1=complex(input(\"Enter the number\"))\n",
    "print(\"Data type of num1 is\",type(num1))\n",
    "num2=complex(input(\"Enter the second number\"))\n",
    "print(\"Data type of num2\",type(num2))\n",
    "#print(\"Addition of num1\",num1,\"and\",num2,\"is\",num1+num2)\n",
    "print(f\"Addition of num1 {num1} and num2 {num2} is {num1+num2}\")"
   ]
  },
  {
   "cell_type": "code",
   "execution_count": 24,
   "metadata": {},
   "outputs": [
    {
     "data": {
      "text/plain": [
       "'2050'"
      ]
     },
     "execution_count": 24,
     "metadata": {},
     "output_type": "execute_result"
    }
   ],
   "source": [
    "str(20)+str(50)"
   ]
  },
  {
   "cell_type": "code",
   "execution_count": 25,
   "metadata": {},
   "outputs": [
    {
     "data": {
      "text/plain": [
       "100"
      ]
     },
     "execution_count": 25,
     "metadata": {},
     "output_type": "execute_result"
    }
   ],
   "source": [
    "int(50.78)+int(50.23)"
   ]
  },
  {
   "cell_type": "code",
   "execution_count": 26,
   "metadata": {},
   "outputs": [
    {
     "data": {
      "text/plain": [
       "105.0"
      ]
     },
     "execution_count": 26,
     "metadata": {},
     "output_type": "execute_result"
    }
   ],
   "source": [
    "int(45.78)+float(60)"
   ]
  },
  {
   "cell_type": "code",
   "execution_count": null,
   "metadata": {},
   "outputs": [],
   "source": [
    "#Python is an object oriented language.\n",
    "# static polymorphism=>operator overloading=>one operator we use for different data types.\n",
    "# + => int,float,str\n",
    "# + => int+int=>int\n",
    "# + => int + float=>float\n",
    "# +=> str +str=>str(concatenate)\n"
   ]
  }
 ],
 "metadata": {
  "kernelspec": {
   "display_name": "Python 3",
   "language": "python",
   "name": "python3"
  },
  "language_info": {
   "codemirror_mode": {
    "name": "ipython",
    "version": 3
   },
   "file_extension": ".py",
   "mimetype": "text/x-python",
   "name": "python",
   "nbconvert_exporter": "python",
   "pygments_lexer": "ipython3",
   "version": "3.12.5"
  }
 },
 "nbformat": 4,
 "nbformat_minor": 2
}
