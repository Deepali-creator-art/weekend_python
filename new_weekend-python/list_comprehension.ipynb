{
 "cells": [
  {
   "cell_type": "code",
   "execution_count": 1,
   "metadata": {},
   "outputs": [
    {
     "name": "stdout",
     "output_type": "stream",
     "text": [
      "['V', 'a', 'i', 'b', 'h', 'a', 'v']\n"
     ]
    }
   ],
   "source": [
    "#Create character list of given string.\n",
    "name='Vaibhav'\n",
    "character_list=[i for i in name]\n",
    "print(character_list)"
   ]
  },
  {
   "cell_type": "code",
   "execution_count": 2,
   "metadata": {},
   "outputs": [
    {
     "name": "stdout",
     "output_type": "stream",
     "text": [
      "[144, 1156, 49, 484, 324]\n"
     ]
    }
   ],
   "source": [
    "#To generate square of numbers of a given a tuple using list comprehension.\n",
    "numbers=(12,34,7,22,18)\n",
    "square_list=[num*num for num in numbers]\n",
    "print(square_list)\n"
   ]
  },
  {
   "cell_type": "code",
   "execution_count": 3,
   "metadata": {},
   "outputs": [
    {
     "name": "stdout",
     "output_type": "stream",
     "text": [
      "['PRASHANT', 'SIDDHANT', 'NARENDRA', 'SARTHI']\n"
     ]
    }
   ],
   "source": [
    "#Create a list of upper case of a given list elements.\n",
    "names=['prashant','siddhant','narendra','sarthi']\n",
    "upper_case_list=[name.upper() for name in names]\n",
    "print(upper_case_list)"
   ]
  },
  {
   "cell_type": "code",
   "execution_count": 4,
   "metadata": {},
   "outputs": [
    {
     "name": "stdout",
     "output_type": "stream",
     "text": [
      "[12, 78, 33, 75, 93]\n"
     ]
    }
   ],
   "source": [
    "#To filter the numbers those are divisible by 3\n",
    "num_list=[12,78,34,79,33,20,10,75,93,82,41]\n",
    "number_divisible_by_3=[num for num in num_list if num%3==0]\n",
    "print(number_divisible_by_3)\n"
   ]
  },
  {
   "cell_type": "code",
   "execution_count": 8,
   "metadata": {},
   "outputs": [
    {
     "name": "stdout",
     "output_type": "stream",
     "text": [
      "['prashant', 'Siddhant', 'Sarthi']\n"
     ]
    }
   ],
   "source": [
    "#To filter the names those are containing a character 's'\n",
    "names=['prashant','Siddhant','narendra','Sarthi']\n",
    "result=[name for name in names if 's' in name or 'S' in name]\n",
    "print(result)"
   ]
  },
  {
   "cell_type": "code",
   "execution_count": 9,
   "metadata": {},
   "outputs": [
    {
     "name": "stdout",
     "output_type": "stream",
     "text": [
      "even\n"
     ]
    }
   ],
   "source": [
    "# if..else \n",
    "x=20\n",
    "if(x%2==0):\n",
    "    print('even')\n",
    "else:\n",
    "    print('odd')"
   ]
  },
  {
   "cell_type": "code",
   "execution_count": 10,
   "metadata": {},
   "outputs": [
    {
     "name": "stdout",
     "output_type": "stream",
     "text": [
      "even\n"
     ]
    }
   ],
   "source": [
    "x=20\n",
    "print('even') if x%2==0 else print('odd') "
   ]
  },
  {
   "cell_type": "code",
   "execution_count": 12,
   "metadata": {},
   "outputs": [
    {
     "name": "stdout",
     "output_type": "stream",
     "text": [
      "['even', 'even', 'even', 'odd', 'odd', 'odd', 'odd', 'even', 'odd']\n"
     ]
    }
   ],
   "source": [
    "x=[12,78,34,91,83,87,95,52,65]\n",
    "output_result=['even'  if number%2==0 else 'odd' for number in x]\n",
    "print(output_result)"
   ]
  },
  {
   "cell_type": "code",
   "execution_count": 15,
   "metadata": {},
   "outputs": [
    {
     "name": "stdout",
     "output_type": "stream",
     "text": [
      "['mango', 'pinemango']\n"
     ]
    }
   ],
   "source": [
    "#Replace apple with mango\n",
    "fruits=['apple','banana','pineapple','grapes']\n",
    "#new_fruits=['mango','banana','pineapple','grapes']\n",
    "new_fruits=[fruit.replace('apple','mango') for fruit in fruits if 'apple' in fruit]\n",
    "print(new_fruits)"
   ]
  },
  {
   "cell_type": "code",
   "execution_count": 16,
   "metadata": {},
   "outputs": [
    {
     "name": "stdout",
     "output_type": "stream",
     "text": [
      "['mango', 'banana', 'pineapple', 'grapes']\n"
     ]
    }
   ],
   "source": [
    "#Replace apple with mango\n",
    "fruits=['apple','banana','pineapple','grapes']\n",
    "#new_fruits=['mango','banana','pineapple','grapes']\n",
    "new_fruits=['mango' if fruit=='apple' else fruit for fruit in fruits]\n",
    "print(new_fruits)"
   ]
  },
  {
   "cell_type": "code",
   "execution_count": 18,
   "metadata": {},
   "outputs": [
    {
     "data": {
      "text/plain": [
       "[[1, 1], [1, 2], [2, 1], [2, 2]]"
      ]
     },
     "execution_count": 18,
     "metadata": {},
     "output_type": "execute_result"
    }
   ],
   "source": [
    "p=[1,2]\n",
    "#[[1,1],[1,2],[2,1],[2,2]]\n",
    "[[i,j] for i in p for j in p]\n"
   ]
  },
  {
   "cell_type": "code",
   "execution_count": 20,
   "metadata": {},
   "outputs": [
    {
     "name": "stdout",
     "output_type": "stream",
     "text": [
      "[[1, 1, 1], [1, 1, 2], [1, 1, 3], [1, 2, 1], [1, 2, 2], [1, 2, 3], [1, 3, 1], [1, 3, 2], [1, 3, 3], [2, 1, 1], [2, 1, 2], [2, 1, 3], [2, 2, 1], [2, 2, 2], [2, 2, 3], [2, 3, 1], [2, 3, 2], [2, 3, 3], [3, 1, 1], [3, 1, 2], [3, 1, 3], [3, 2, 1], [3, 2, 2], [3, 2, 3], [3, 3, 1], [3, 3, 2], [3, 3, 3]]\n"
     ]
    }
   ],
   "source": [
    "p=[1,2,3]\n",
    "#[[1,1],[1,2],[2,1],[2,2]]\n",
    "result=[[i,j,k] for i in p for j in p for k in p]\n",
    "print(result)\n"
   ]
  },
  {
   "cell_type": "code",
   "execution_count": 28,
   "metadata": {},
   "outputs": [
    {
     "name": "stdout",
     "output_type": "stream",
     "text": [
      "{1: 1, 2: 4, 3: 9, 4: 16, 5: 25}\n"
     ]
    }
   ],
   "source": [
    "#dictionary comprehension\n",
    "#{key:value}\n",
    "x={1,2,3,4,5} #input\n",
    "#{1:1,2:4,3:9,4:16,5:25}\n",
    "#syntax => {expression for iterable in iterable_object}\n",
    "result={i:i*i for i in x}\n",
    "print(result)"
   ]
  },
  {
   "cell_type": "code",
   "execution_count": 30,
   "metadata": {},
   "outputs": [
    {
     "data": {
      "text/plain": [
       "{'a': 'AA', 'd': 'DD', 'i': 'II', 'k': 'KK', 'p': 'PP'}"
      ]
     },
     "execution_count": 30,
     "metadata": {},
     "output_type": "execute_result"
    }
   ],
   "source": [
    "characters=['a','d','i','k','p']\n",
    "#output=>{'a':'AA','d':'DD','i':'II','k':'KK',p':'PP'}\n",
    "{ch:ch.upper()*2 for ch in characters}"
   ]
  },
  {
   "cell_type": "code",
   "execution_count": 29,
   "metadata": {},
   "outputs": [
    {
     "data": {
      "text/plain": [
       "'prashantprashant'"
      ]
     },
     "execution_count": 29,
     "metadata": {},
     "output_type": "execute_result"
    }
   ],
   "source": [
    "z='prashant'\n",
    "z*2"
   ]
  },
  {
   "cell_type": "code",
   "execution_count": 32,
   "metadata": {},
   "outputs": [
    {
     "data": {
      "text/plain": [
       "{8: 64, 12: 144, 24: 576}"
      ]
     },
     "execution_count": 32,
     "metadata": {},
     "output_type": "execute_result"
    }
   ],
   "source": [
    "numbers=[2,6,8,9,12,24,17,19]\n",
    "#{'8':64}\n",
    "{num:num**2 for num in numbers if num%4==0}"
   ]
  },
  {
   "cell_type": "code",
   "execution_count": 34,
   "metadata": {},
   "outputs": [
    {
     "data": {
      "text/plain": [
       "[('prashant', 'pote'),\n",
       " ('Siddhant', 'pawar'),\n",
       " ('narendra', 'gophane'),\n",
       " ('Sarthi', 'chaudhari')]"
      ]
     },
     "execution_count": 34,
     "metadata": {},
     "output_type": "execute_result"
    }
   ],
   "source": [
    "first_name=['prashant','Siddhant','narendra','Sarthi']\n",
    "last_name=['pote','pawar','gophane','chaudhari']\n",
    "list(zip(first_name,last_name))\n"
   ]
  },
  {
   "cell_type": "code",
   "execution_count": 35,
   "metadata": {},
   "outputs": [
    {
     "data": {
      "text/plain": [
       "{'prashant': 'pote',\n",
       " 'Siddhant': 'pawar',\n",
       " 'narendra': 'gophane',\n",
       " 'Sarthi': 'chaudhari'}"
      ]
     },
     "execution_count": 35,
     "metadata": {},
     "output_type": "execute_result"
    }
   ],
   "source": [
    "first_name=['prashant','Siddhant','narendra','Sarthi']\n",
    "last_name=['pote','pawar','gophane','chaudhari']\n",
    "{key:value for key,value in zip(first_name,last_name)}"
   ]
  },
  {
   "cell_type": "code",
   "execution_count": 38,
   "metadata": {},
   "outputs": [
    {
     "data": {
      "text/plain": [
       "[(10, 60), (20, 70), (30, 80), (40, 90), (50, 100)]"
      ]
     },
     "execution_count": 38,
     "metadata": {},
     "output_type": "execute_result"
    }
   ],
   "source": [
    "x=[10,20,30,40,50]\n",
    "y=[60,70,80,90,100]\n",
    "list(zip(x,y))"
   ]
  },
  {
   "cell_type": "code",
   "execution_count": 39,
   "metadata": {},
   "outputs": [
    {
     "data": {
      "text/plain": [
       "[70, 90, 110, 130, 150]"
      ]
     },
     "execution_count": 39,
     "metadata": {},
     "output_type": "execute_result"
    }
   ],
   "source": [
    "x=[10,20,30,40,50]\n",
    "y=[60,70,80,90,100]\n",
    "#[70,90,110,130,150]\n",
    "[i+j for i,j in zip(x,y)]"
   ]
  }
 ],
 "metadata": {
  "kernelspec": {
   "display_name": "Python 3",
   "language": "python",
   "name": "python3"
  },
  "language_info": {
   "codemirror_mode": {
    "name": "ipython",
    "version": 3
   },
   "file_extension": ".py",
   "mimetype": "text/x-python",
   "name": "python",
   "nbconvert_exporter": "python",
   "pygments_lexer": "ipython3",
   "version": "3.12.5"
  }
 },
 "nbformat": 4,
 "nbformat_minor": 2
}
