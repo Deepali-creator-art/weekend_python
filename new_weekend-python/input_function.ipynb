{
 "cells": [
  {
   "cell_type": "code",
   "execution_count": 6,
   "metadata": {},
   "outputs": [
    {
     "name": "stdout",
     "output_type": "stream",
     "text": [
      "8765\n",
      "<class 'str'>\n"
     ]
    }
   ],
   "source": [
    "#run time input\n",
    "number1=input(\"Enter the number\")\n",
    "print(number1)\n",
    "print(type(number1))"
   ]
  },
  {
   "cell_type": "code",
   "execution_count": 7,
   "metadata": {},
   "outputs": [
    {
     "name": "stdout",
     "output_type": "stream",
     "text": [
      "<class 'int'>\n"
     ]
    }
   ],
   "source": [
    "a=100\n",
    "print(type(a))"
   ]
  },
  {
   "cell_type": "code",
   "execution_count": 10,
   "metadata": {},
   "outputs": [
    {
     "name": "stdout",
     "output_type": "stream",
     "text": [
      "Data type of num1 <class 'str'>\n",
      "Data type of num2 <class 'str'>\n",
      "6789\n"
     ]
    }
   ],
   "source": [
    "#addition of two numbers\n",
    "num1=input(\"Enter the number\")\n",
    "print(\"Data type of num1\",type(num1))\n",
    "num2=input(\"Enter the second number\")\n",
    "print(\"Data type of num2\",type(num2))\n",
    "print(num1+num2)"
   ]
  },
  {
   "cell_type": "code",
   "execution_count": 11,
   "metadata": {},
   "outputs": [
    {
     "name": "stdout",
     "output_type": "stream",
     "text": [
      "Data type of num1 <class 'int'>\n",
      "Data type of num2 <class 'int'>\n",
      "99\n"
     ]
    }
   ],
   "source": [
    "#addition of two numbers\n",
    "#typecasting=>we convert string data type into integer\n",
    "num1=int(input(\"Enter the number\"))\n",
    "print(\"Data type of num1\",type(num1))\n",
    "num2=int(input(\"Enter the second number\"))\n",
    "print(\"Data type of num2\",type(num2))\n",
    "print(\"First number\",num1)\n",
    "print(\"Second number\",num2)\n",
    "print(\"Addition of two numbers\",num1+num2)"
   ]
  },
  {
   "cell_type": "code",
   "execution_count": 14,
   "metadata": {},
   "outputs": [
    {
     "name": "stdout",
     "output_type": "stream",
     "text": [
      "Data type of num1 <class 'float'>\n",
      "Data type of num2 <class 'float'>\n",
      "First number 45.0\n",
      "Second number 23.0\n",
      "Addition of two numbers 68.0\n"
     ]
    }
   ],
   "source": [
    "#addition of two numbers\n",
    "#typecasting=>we convert string data type into float\n",
    "num1=float(input(\"Enter the number\"))\n",
    "print(\"Data type of num1\",type(num1))\n",
    "num2=float(input(\"Enter the second number\"))\n",
    "print(\"Data type of num2\",type(num2))\n",
    "print(\"First number\",num1)\n",
    "print(\"Second number\",num2)\n",
    "print(\"Addition of two numbers\",num1+num2)"
   ]
  },
  {
   "cell_type": "code",
   "execution_count": 18,
   "metadata": {},
   "outputs": [
    {
     "name": "stdout",
     "output_type": "stream",
     "text": [
      "Data type of num1 <class 'complex'>\n",
      "Data type of num2 <class 'complex'>\n",
      "First number 5j\n",
      "Second number 7j\n",
      "Addition of two numbers 12j\n"
     ]
    }
   ],
   "source": [
    "#addition of two numbers\n",
    "#typecasting=>we convert string data type into complex\n",
    "num1=complex(input(\"Enter the number\"))\n",
    "print(\"Data type of num1\",type(num1))\n",
    "num2=complex(input(\"Enter the second number\"))\n",
    "print(\"Data type of num2\",type(num2))\n",
    "print(\"First number\",num1)\n",
    "print(\"Second number\",num2)\n",
    "print(\"Addition of two numbers\",num1+num2)"
   ]
  },
  {
   "cell_type": "code",
   "execution_count": 19,
   "metadata": {},
   "outputs": [
    {
     "name": "stdout",
     "output_type": "stream",
     "text": [
      "Item1 Milk Item price 36.0\n",
      "Item2 Tea Powder Item price 65.0\n",
      "Item3 Sugar Item price 40.0\n",
      "Pay total amount is 141.0\n"
     ]
    }
   ],
   "source": [
    "#To calculate bill for given items price\n",
    "#input =>item name and price\n",
    "item1=input(\"Enter the item1 name\")\n",
    "item1_price=float(input(\"Enter the price of item1\"))\n",
    "item2=input(\"Enter the item2 name\")\n",
    "item2_price=float(input(\"Enter the price of item2\"))\n",
    "item3=input(\"Enter the item3 name\")\n",
    "item3_price=float(input(\"Enter the price of item3\"))\n",
    "print(\"Item1\",item1,\"Item price\",item1_price)\n",
    "print(\"Item2\",item2,\"Item price\",item2_price)\n",
    "print(\"Item3\",item3,\"Item price\",item3_price)\n",
    "bill_amount=item1_price+item2_price+item3_price\n",
    "print(\"Pay total amount is\",bill_amount)\n"
   ]
  },
  {
   "cell_type": "code",
   "execution_count": null,
   "metadata": {},
   "outputs": [
    {
     "name": "stdout",
     "output_type": "stream",
     "text": [
      "Welcome, deepali to python programming\n",
      "Welcome,deepali to python programming\n",
      "Welcome deepali to python programming\n",
      "Welcome deepali to python programming\n"
     ]
    }
   ],
   "source": [
    "#we can print() different ways where we can access value of variable.\n",
    "username=input(\"Enter the username\")\n",
    "print(\"Welcome,\", username ,\"to python programming\")\n",
    "print(\"Welcome,\" +  username  + \" to python programming\")\n",
    "print(f\"Welcome {username} to python programming\") #format string\n",
    "print(\"Welcome {} to python programming\" .format(username)) #format method"
   ]
  },
  {
   "cell_type": "code",
   "execution_count": 30,
   "metadata": {},
   "outputs": [
    {
     "name": "stdout",
     "output_type": "stream",
     "text": [
      "1020\n",
      "30\n"
     ]
    }
   ],
   "source": [
    "a=10\n",
    "b='20'\n",
    "print(str(a)+b)\n",
    "print(a+int(b))"
   ]
  },
  {
   "cell_type": "code",
   "execution_count": 34,
   "metadata": {},
   "outputs": [
    {
     "name": "stdout",
     "output_type": "stream",
     "text": [
      "Area of circle is 113.04\n"
     ]
    }
   ],
   "source": [
    "#to display area of circle\n",
    "pi=3.14\n",
    "radius=float(input(\"Enter the radius\"))\n",
    "print(f\"Area of circle is {pi*radius*radius:.2f}\")"
   ]
  },
  {
   "cell_type": "code",
   "execution_count": 36,
   "metadata": {},
   "outputs": [
    {
     "name": "stdout",
     "output_type": "stream",
     "text": [
      "Area of square is 25\n"
     ]
    }
   ],
   "source": [
    "#Write a program to calculate area of square. side*side\n",
    "side=5\n",
    "print(\"Area of square is\",side*side)\n"
   ]
  },
  {
   "cell_type": "code",
   "execution_count": null,
   "metadata": {},
   "outputs": [],
   "source": []
  }
 ],
 "metadata": {
  "kernelspec": {
   "display_name": "Python 3",
   "language": "python",
   "name": "python3"
  },
  "language_info": {
   "codemirror_mode": {
    "name": "ipython",
    "version": 3
   },
   "file_extension": ".py",
   "mimetype": "text/x-python",
   "name": "python",
   "nbconvert_exporter": "python",
   "pygments_lexer": "ipython3",
   "version": "3.12.5"
  }
 },
 "nbformat": 4,
 "nbformat_minor": 2
}
