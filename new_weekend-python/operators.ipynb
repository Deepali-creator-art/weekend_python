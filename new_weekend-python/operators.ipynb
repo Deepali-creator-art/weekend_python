{
 "cells": [
  {
   "cell_type": "code",
   "execution_count": 1,
   "metadata": {},
   "outputs": [
    {
     "name": "stdout",
     "output_type": "stream",
     "text": [
      "3.0\n"
     ]
    }
   ],
   "source": [
    "# / division operator returns result in float value.\n",
    "a=15\n",
    "b=5\n",
    "print(a/b)"
   ]
  },
  {
   "cell_type": "code",
   "execution_count": 2,
   "metadata": {},
   "outputs": [
    {
     "name": "stdout",
     "output_type": "stream",
     "text": [
      "3\n"
     ]
    }
   ],
   "source": [
    "# // floor division returns result in integer value.(quotient)\n",
    "a=15\n",
    "b=5\n",
    "print(a//b)"
   ]
  },
  {
   "cell_type": "code",
   "execution_count": 5,
   "metadata": {},
   "outputs": [
    {
     "name": "stdout",
     "output_type": "stream",
     "text": [
      "3\n",
      "5.6\n",
      "5\n"
     ]
    }
   ],
   "source": [
    "# % modulus operator returns result in integer value.(remainder)\n",
    "a=28\n",
    "b=5\n",
    "print(a%b) #remainder\n",
    "print(a/b) #division result\n",
    "print(a//b) #quotient"
   ]
  },
  {
   "cell_type": "code",
   "execution_count": 6,
   "metadata": {},
   "outputs": [
    {
     "data": {
      "text/plain": [
       "8"
      ]
     },
     "execution_count": 6,
     "metadata": {},
     "output_type": "execute_result"
    }
   ],
   "source": [
    "# ** exponent operator is similar to pow()\n",
    "2**3"
   ]
  },
  {
   "cell_type": "code",
   "execution_count": 7,
   "metadata": {},
   "outputs": [
    {
     "data": {
      "text/plain": [
       "8"
      ]
     },
     "execution_count": 7,
     "metadata": {},
     "output_type": "execute_result"
    }
   ],
   "source": [
    "pow(2,3)"
   ]
  },
  {
   "cell_type": "code",
   "execution_count": 8,
   "metadata": {},
   "outputs": [
    {
     "data": {
      "text/plain": [
       "-50"
      ]
     },
     "execution_count": 8,
     "metadata": {},
     "output_type": "execute_result"
    }
   ],
   "source": [
    "# operator precendence \n",
    "# (),exponent,multiplication * or division / ,addition + or substraction\n",
    "2*4+6-8**2\n",
    "#8+6-64\n",
    "#14-64"
   ]
  },
  {
   "cell_type": "code",
   "execution_count": 9,
   "metadata": {},
   "outputs": [
    {
     "data": {
      "text/plain": [
       "512"
      ]
     },
     "execution_count": 9,
     "metadata": {},
     "output_type": "execute_result"
    }
   ],
   "source": [
    "2**3**2 #expression evaluate from right to left direction"
   ]
  },
  {
   "cell_type": "code",
   "execution_count": 11,
   "metadata": {},
   "outputs": [
    {
     "data": {
      "text/plain": [
       "729"
      ]
     },
     "execution_count": 11,
     "metadata": {},
     "output_type": "execute_result"
    }
   ],
   "source": [
    "(3**2)**3"
   ]
  },
  {
   "cell_type": "code",
   "execution_count": 12,
   "metadata": {},
   "outputs": [
    {
     "data": {
      "text/plain": [
       "True"
      ]
     },
     "execution_count": 12,
     "metadata": {},
     "output_type": "execute_result"
    }
   ],
   "source": [
    "12<45"
   ]
  },
  {
   "cell_type": "code",
   "execution_count": 13,
   "metadata": {},
   "outputs": [
    {
     "data": {
      "text/plain": [
       "True"
      ]
     },
     "execution_count": 13,
     "metadata": {},
     "output_type": "execute_result"
    }
   ],
   "source": [
    "12==12"
   ]
  },
  {
   "cell_type": "code",
   "execution_count": 14,
   "metadata": {},
   "outputs": [
    {
     "data": {
      "text/plain": [
       "True"
      ]
     },
     "execution_count": 14,
     "metadata": {},
     "output_type": "execute_result"
    }
   ],
   "source": [
    "14!=16 #not equal to"
   ]
  },
  {
   "cell_type": "code",
   "execution_count": 15,
   "metadata": {},
   "outputs": [
    {
     "data": {
      "text/plain": [
       "True"
      ]
     },
     "execution_count": 15,
     "metadata": {},
     "output_type": "execute_result"
    }
   ],
   "source": [
    "61>=60"
   ]
  },
  {
   "cell_type": "code",
   "execution_count": 16,
   "metadata": {},
   "outputs": [
    {
     "name": "stdout",
     "output_type": "stream",
     "text": [
      "110\n"
     ]
    }
   ],
   "source": [
    "#assignment operator =>+=,-=,*=,/=,//=,%=,**=\n",
    "x=100\n",
    "x+=10 #x=x+10\n",
    "print(x)"
   ]
  },
  {
   "cell_type": "code",
   "execution_count": 19,
   "metadata": {},
   "outputs": [
    {
     "name": "stdout",
     "output_type": "stream",
     "text": [
      "P= 20\n",
      "Q= 40\n",
      "P= 60\n",
      "Q= 40\n"
     ]
    }
   ],
   "source": [
    "p=20\n",
    "q=40\n",
    "print(\"P=\",p)\n",
    "print(\"Q=\",q)\n",
    "p+=q #p=p+q\n",
    "print(\"P=\",p)\n",
    "print(\"Q=\",q)"
   ]
  },
  {
   "cell_type": "code",
   "execution_count": 20,
   "metadata": {},
   "outputs": [
    {
     "name": "stdout",
     "output_type": "stream",
     "text": [
      "P= 20\n",
      "Q= 40\n",
      "P= 20\n",
      "Q= 60\n"
     ]
    }
   ],
   "source": [
    "p=20\n",
    "q=40\n",
    "print(\"P=\",p)\n",
    "print(\"Q=\",q)\n",
    "q+=p #q=q+p\n",
    "print(\"P=\",p)\n",
    "print(\"Q=\",q)"
   ]
  },
  {
   "cell_type": "code",
   "execution_count": 21,
   "metadata": {},
   "outputs": [
    {
     "name": "stdout",
     "output_type": "stream",
     "text": [
      "P= 2\n",
      "Q= 4\n",
      "P= 2\n",
      "Q= 16\n"
     ]
    }
   ],
   "source": [
    "p=2\n",
    "q=4\n",
    "print(\"P=\",p)\n",
    "print(\"Q=\",q)\n",
    "q**=p #q=q**p\n",
    "print(\"P=\",p)\n",
    "print(\"Q=\",q)"
   ]
  },
  {
   "cell_type": "code",
   "execution_count": 22,
   "metadata": {},
   "outputs": [
    {
     "name": "stdout",
     "output_type": "stream",
     "text": [
      "P= 2\n",
      "Q= 4\n",
      "P= 16\n",
      "Q= 4\n"
     ]
    }
   ],
   "source": [
    "p=2\n",
    "q=4\n",
    "print(\"P=\",p)\n",
    "print(\"Q=\",q)\n",
    "p**=q # p=p**q\n",
    "print(\"P=\",p)\n",
    "print(\"Q=\",q)"
   ]
  },
  {
   "cell_type": "code",
   "execution_count": 23,
   "metadata": {},
   "outputs": [
    {
     "name": "stdout",
     "output_type": "stream",
     "text": [
      "1\n"
     ]
    }
   ],
   "source": [
    "a=5 #binary number  101\n",
    "b=3 #binary number &011\n",
    "              #     001  \n",
    "print(a&b)"
   ]
  },
  {
   "cell_type": "code",
   "execution_count": 24,
   "metadata": {},
   "outputs": [
    {
     "data": {
      "text/plain": [
       "'0b101'"
      ]
     },
     "execution_count": 24,
     "metadata": {},
     "output_type": "execute_result"
    }
   ],
   "source": [
    "bin(5)"
   ]
  },
  {
   "cell_type": "code",
   "execution_count": 25,
   "metadata": {},
   "outputs": [
    {
     "data": {
      "text/plain": [
       "'0b11'"
      ]
     },
     "execution_count": 25,
     "metadata": {},
     "output_type": "execute_result"
    }
   ],
   "source": [
    "bin(3)"
   ]
  },
  {
   "cell_type": "code",
   "execution_count": 26,
   "metadata": {},
   "outputs": [
    {
     "name": "stdout",
     "output_type": "stream",
     "text": [
      "7\n"
     ]
    }
   ],
   "source": [
    "a=5 #binary number  101\n",
    "b=3 #binary number |011\n",
    "              #     111  \n",
    "print(a|b)"
   ]
  },
  {
   "cell_type": "code",
   "execution_count": 27,
   "metadata": {},
   "outputs": [
    {
     "name": "stdout",
     "output_type": "stream",
     "text": [
      "6\n"
     ]
    }
   ],
   "source": [
    "a=5 #binary number  101\n",
    "b=3 #binary number ^011\n",
    "              #     110  \n",
    "print(a^b)"
   ]
  },
  {
   "cell_type": "code",
   "execution_count": 31,
   "metadata": {},
   "outputs": [
    {
     "data": {
      "text/plain": [
       "-11"
      ]
     },
     "execution_count": 31,
     "metadata": {},
     "output_type": "execute_result"
    }
   ],
   "source": [
    "# ~ not operator \n",
    "# convert +ve number into negative number \n",
    "# if number is positive then in result number is \n",
    "# incremented by 1 and assign negative value.\n",
    "~10"
   ]
  },
  {
   "cell_type": "code",
   "execution_count": 32,
   "metadata": {},
   "outputs": [
    {
     "data": {
      "text/plain": [
       "9"
      ]
     },
     "execution_count": 32,
     "metadata": {},
     "output_type": "execute_result"
    }
   ],
   "source": [
    "# ~ not operator \n",
    "# convert -ve number into +ve number \n",
    "# if number is negative then in result number is \n",
    "# decremented by 1 and assign positive value.\n",
    "~ -10"
   ]
  },
  {
   "cell_type": "code",
   "execution_count": 33,
   "metadata": {},
   "outputs": [
    {
     "data": {
      "text/plain": [
       "-13"
      ]
     },
     "execution_count": 33,
     "metadata": {},
     "output_type": "execute_result"
    }
   ],
   "source": [
    "#~ count is odd numbers of times result is opposite number.\n",
    "~~~12"
   ]
  },
  {
   "cell_type": "code",
   "execution_count": 34,
   "metadata": {},
   "outputs": [
    {
     "data": {
      "text/plain": [
       "12"
      ]
     },
     "execution_count": 34,
     "metadata": {},
     "output_type": "execute_result"
    }
   ],
   "source": [
    "#~ count is even numbers of times result is same number.\n",
    "\n",
    "~~~~12"
   ]
  },
  {
   "cell_type": "code",
   "execution_count": 35,
   "metadata": {},
   "outputs": [
    {
     "data": {
      "text/plain": [
       "-19"
      ]
     },
     "execution_count": 35,
     "metadata": {},
     "output_type": "execute_result"
    }
   ],
   "source": [
    "~~~~~~~18"
   ]
  },
  {
   "cell_type": "code",
   "execution_count": 36,
   "metadata": {},
   "outputs": [
    {
     "name": "stdout",
     "output_type": "stream",
     "text": [
      "48\n"
     ]
    }
   ],
   "source": [
    "#left shift operator << =>a*2**b\n",
    "a=12\n",
    "b=2\n",
    "print(a<<b)"
   ]
  },
  {
   "cell_type": "code",
   "execution_count": 39,
   "metadata": {},
   "outputs": [
    {
     "name": "stdout",
     "output_type": "stream",
     "text": [
      "3\n"
     ]
    }
   ],
   "source": [
    "#right shift operator >> =>a/2**b\n",
    "a=12\n",
    "b=2\n",
    "print(a>>b)"
   ]
  },
  {
   "cell_type": "code",
   "execution_count": 41,
   "metadata": {},
   "outputs": [
    {
     "data": {
      "text/plain": [
       "True"
      ]
     },
     "execution_count": 41,
     "metadata": {},
     "output_type": "execute_result"
    }
   ],
   "source": [
    "#special operator => in ,not in membership operator\n",
    "name='siddhant'\n",
    "'a' in name"
   ]
  },
  {
   "cell_type": "code",
   "execution_count": 42,
   "metadata": {},
   "outputs": [
    {
     "data": {
      "text/plain": [
       "False"
      ]
     },
     "execution_count": 42,
     "metadata": {},
     "output_type": "execute_result"
    }
   ],
   "source": [
    "'a' not in name"
   ]
  },
  {
   "cell_type": "code",
   "execution_count": 43,
   "metadata": {},
   "outputs": [
    {
     "data": {
      "text/plain": [
       "True"
      ]
     },
     "execution_count": 43,
     "metadata": {},
     "output_type": "execute_result"
    }
   ],
   "source": [
    "numbers=(10,22,45,78,34,94)\n",
    "78 in numbers"
   ]
  },
  {
   "cell_type": "code",
   "execution_count": 47,
   "metadata": {},
   "outputs": [
    {
     "name": "stdout",
     "output_type": "stream",
     "text": [
      "Comparision operator result ==  : True\n",
      "Identity operator result is   : True\n",
      "Id of a is :=> 140713293581464\n",
      "Id of b is :=> 140713293581464\n"
     ]
    }
   ],
   "source": [
    "# identity operator => is ,is not\n",
    "# is operator is similar to equality operator ==\n",
    "# is not operator is similar to not equality operator !=\n",
    "a=24\n",
    "b=24\n",
    "print(\"Comparision operator result ==  :\",a==b)\n",
    "print(\"Identity operator result is   :\",a is b)\n",
    "print(\"Id of a is :=>\" ,id(a))\n",
    "print(\"Id of b is :=>\" ,id(b))"
   ]
  },
  {
   "cell_type": "code",
   "execution_count": 48,
   "metadata": {},
   "outputs": [
    {
     "name": "stdout",
     "output_type": "stream",
     "text": [
      "Comparision operator result ==  : True\n",
      "Identity operator result is   : True\n",
      "Id of a is :=> 140713293587480\n",
      "Id of b is :=> 140713293587480\n"
     ]
    }
   ],
   "source": [
    "# identity operator => is ,is not\n",
    "# is operator is similar to equality operator ==\n",
    "# is not operator is similar to not equality operator !=\n",
    "a=212\n",
    "b=212\n",
    "print(\"Comparision operator result ==  :\",a==b)\n",
    "print(\"Identity operator result is   :\",a is b)\n",
    "print(\"Id of a is :=>\" ,id(a))\n",
    "print(\"Id of b is :=>\" ,id(b))"
   ]
  },
  {
   "cell_type": "code",
   "execution_count": 49,
   "metadata": {},
   "outputs": [
    {
     "name": "stdout",
     "output_type": "stream",
     "text": [
      "Comparision operator result ==  : True\n",
      "Identity operator result is   : True\n",
      "Id of a is :=> 140713293588888\n",
      "Id of b is :=> 140713293588888\n"
     ]
    }
   ],
   "source": [
    "# identity operator => is ,is not\n",
    "# is operator is similar to equality operator ==\n",
    "# is not operator is similar to not equality operator !=\n",
    "a=256\n",
    "b=256\n",
    "print(\"Comparision operator result ==  :\",a==b)\n",
    "print(\"Identity operator result is   :\",a is b)\n",
    "print(\"Id of a is :=>\" ,id(a))\n",
    "print(\"Id of b is :=>\" ,id(b))"
   ]
  },
  {
   "cell_type": "code",
   "execution_count": 50,
   "metadata": {},
   "outputs": [
    {
     "name": "stdout",
     "output_type": "stream",
     "text": [
      "Comparision operator result ==  : True\n",
      "Identity operator result is   : False\n",
      "Id of a is :=> 1855898448144\n",
      "Id of b is :=> 1855898450768\n"
     ]
    }
   ],
   "source": [
    "# identity operator => is ,is not\n",
    "# is operator is similar to equality operator ==\n",
    "# is not operator is similar to not equality operator !=\n",
    "#integer number memory capacity is 8 bit only.i.e. 2**8 256 bits \n",
    "a=257\n",
    "b=257\n",
    "print(\"Comparision operator result ==  :\",a==b)\n",
    "print(\"Identity operator result is   :\",a is b)\n",
    "print(\"Id of a is :=>\" ,id(a))\n",
    "print(\"Id of b is :=>\" ,id(b))"
   ]
  },
  {
   "cell_type": "code",
   "execution_count": 52,
   "metadata": {},
   "outputs": [
    {
     "name": "stdout",
     "output_type": "stream",
     "text": [
      "Comparision operator result ==  : False\n",
      "Identity operator result is   : False\n",
      "Id of a is :=> 1855807061136\n",
      "Id of b is :=> 140713292468192\n"
     ]
    }
   ],
   "source": [
    "# identity operator => is ,is not\n",
    "# is operator is similar to equality operator ==\n",
    "# is not operator is similar to not equality operator !=\n",
    "\n",
    "a='python'\n",
    "b='python'\n",
    "print(\"Comparision operator result ==  :\",a==b)\n",
    "print(\"Identity operator result is   :\",a is b)\n",
    "print(\"Id of a is :=>\" ,id(a))\n",
    "print(\"Id of b is :=>\" ,id(b))"
   ]
  },
  {
   "cell_type": "code",
   "execution_count": 53,
   "metadata": {},
   "outputs": [
    {
     "name": "stdout",
     "output_type": "stream",
     "text": [
      "Comparision operator result ==  : True\n",
      "Identity operator result is   : True\n",
      "Id of a is :=> 1855899434416\n",
      "Id of b is :=> 1855899434416\n"
     ]
    }
   ],
   "source": [
    "# identity operator => is ,is not\n",
    "# is operator is similar to equality operator ==\n",
    "# is not operator is similar to not equality operator !=\n",
    "\n",
    "a='pythonprogramming'\n",
    "b='pythonprogramming'\n",
    "print(\"Comparision operator result ==  :\",a==b)\n",
    "print(\"Identity operator result is   :\",a is b)\n",
    "print(\"Id of a is :=>\" ,id(a))\n",
    "print(\"Id of b is :=>\" ,id(b))"
   ]
  },
  {
   "cell_type": "code",
   "execution_count": 57,
   "metadata": {},
   "outputs": [
    {
     "name": "stdout",
     "output_type": "stream",
     "text": [
      "Comparision operator result ==  : True\n",
      "Identity operator result is   : False\n",
      "Id of a is :=> 1855899428976\n",
      "Id of b is :=> 1855899201776\n"
     ]
    }
   ],
   "source": [
    "# identity operator => is ,is not\n",
    "# is operator is similar to equality operator ==\n",
    "# is not operator is similar to not equality operator !=\n",
    "#for string,is operator result is false \n",
    "# when string contains any special character.\n",
    "a='*python programming*'\n",
    "b='*python programming*'\n",
    "print(\"Comparision operator result ==  :\",a==b)\n",
    "print(\"Identity operator result is   :\",a is b)\n",
    "print(\"Id of a is :=>\" ,id(a))\n",
    "print(\"Id of b is :=>\" ,id(b))"
   ]
  },
  {
   "cell_type": "code",
   "execution_count": null,
   "metadata": {},
   "outputs": [],
   "source": []
  }
 ],
 "metadata": {
  "kernelspec": {
   "display_name": "Python 3",
   "language": "python",
   "name": "python3"
  },
  "language_info": {
   "codemirror_mode": {
    "name": "ipython",
    "version": 3
   },
   "file_extension": ".py",
   "mimetype": "text/x-python",
   "name": "python",
   "nbconvert_exporter": "python",
   "pygments_lexer": "ipython3",
   "version": "3.12.5"
  }
 },
 "nbformat": 4,
 "nbformat_minor": 2
}
