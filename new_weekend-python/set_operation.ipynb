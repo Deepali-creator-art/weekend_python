{
 "cells": [
  {
   "cell_type": "markdown",
   "metadata": {},
   "source": [
    "Set is a collection oriented data type.\n",
    "Set is defined by using {}.\n",
    "Set is a muttable data type itself.\n",
    "Set is an unordered data type.\n",
    "Set does not allow duplicates elements.\n",
    "Empty set is defined by set()."
   ]
  },
  {
   "cell_type": "code",
   "execution_count": 1,
   "metadata": {},
   "outputs": [
    {
     "name": "stdout",
     "output_type": "stream",
     "text": [
      "<class 'set'>\n"
     ]
    }
   ],
   "source": [
    "s1={10,20,45,23,18,28}\n",
    "print(type(s1))"
   ]
  },
  {
   "cell_type": "code",
   "execution_count": 2,
   "metadata": {},
   "outputs": [
    {
     "name": "stdout",
     "output_type": "stream",
     "text": [
      "<class 'set'>\n"
     ]
    }
   ],
   "source": [
    "#initialize empty set\n",
    "items=set()\n",
    "print(type(items))"
   ]
  },
  {
   "cell_type": "code",
   "execution_count": 3,
   "metadata": {},
   "outputs": [
    {
     "name": "stdout",
     "output_type": "stream",
     "text": [
      "<class 'dict'>\n"
     ]
    }
   ],
   "source": [
    "x={}\n",
    "print(type(x))"
   ]
  },
  {
   "cell_type": "code",
   "execution_count": 4,
   "metadata": {},
   "outputs": [
    {
     "name": "stdout",
     "output_type": "stream",
     "text": [
      "{'pohe'}\n"
     ]
    }
   ],
   "source": [
    "#using add() you can add single an element.\n",
    "items.add('pohe')\n",
    "print(items)"
   ]
  },
  {
   "cell_type": "code",
   "execution_count": 5,
   "metadata": {},
   "outputs": [
    {
     "name": "stdout",
     "output_type": "stream",
     "text": [
      "{'appe', 'pohe', 'upma', 'idli'}\n"
     ]
    }
   ],
   "source": [
    "# using update() function we can add more than one element.\n",
    "items.update({'upma','idli','appe'})\n",
    "print(items)"
   ]
  },
  {
   "cell_type": "code",
   "execution_count": 6,
   "metadata": {},
   "outputs": [
    {
     "name": "stdout",
     "output_type": "stream",
     "text": [
      "{'pohe', 'upma', 'idli'}\n"
     ]
    }
   ],
   "source": [
    "# using pop() function we can delete an item.\n",
    "items.pop()\n",
    "print(items)"
   ]
  },
  {
   "cell_type": "code",
   "execution_count": 7,
   "metadata": {},
   "outputs": [
    {
     "name": "stdout",
     "output_type": "stream",
     "text": [
      "{'pohe', 'upma'}\n"
     ]
    }
   ],
   "source": [
    "# using remove() function we can remove particular item.\n",
    "items.remove('idli')\n",
    "print(items)"
   ]
  },
  {
   "cell_type": "code",
   "execution_count": 16,
   "metadata": {},
   "outputs": [
    {
     "name": "stdout",
     "output_type": "stream",
     "text": [
      "Character set {'P', 'n', 'a', 'h', 't', 's', 'r'}\n",
      "Character set {'n', 'a', 'h', 'i', 't', 'S', 'd'}\n",
      "Common alphabets are {'n', 'a', 't', 'h'}\n",
      "Commmon alphabets are {'n', 'a', 't', 'h'}\n",
      "Uncommon alphabet {'P', 'i', 'S', 'd', 's', 'r'}\n",
      "Uncommon alphabets are {'P', 'i', 'S', 'd', 's', 'r'}\n"
     ]
    }
   ],
   "source": [
    "# mathematical function :=> union(),intersection(),difference,symmentric_different.\n",
    "#To find common,uncommon alphabets from a given strings.\n",
    "myself='Prashant'\n",
    "friend_name='Siddhant'\n",
    "# convert string into a set.\n",
    "s1=set(myself)\n",
    "print(\"Character set\",s1)\n",
    "s2=set(friend_name)\n",
    "print(\"Character set\",s2)\n",
    "common_alphabet=s1.intersection(s2)\n",
    "common_alpha=s1 & s2\n",
    "print(\"Common alphabets are\",common_alpha)\n",
    "print(\"Commmon alphabets are\",common_alphabet)\n",
    "uncommon_alphabet=s1.symmetric_difference(s2)\n",
    "uncommon_alpha=s1 ^ s2\n",
    "print(\"Uncommon alphabet\",uncommon_alpha)\n",
    "print(\"Uncommon alphabets are\",uncommon_alphabet)"
   ]
  },
  {
   "cell_type": "code",
   "execution_count": 20,
   "metadata": {},
   "outputs": [
    {
     "name": "stdout",
     "output_type": "stream",
     "text": [
      "Union operation are {70, 40, 10, 50, 20, 60, 30}\n",
      "Union operation are {70, 40, 10, 50, 20, 60, 30}\n",
      "Difference of two sets s1.difference(s2) {10}\n",
      "Difference of two sets s1-s2 {10}\n",
      "Difference of two sets s2.difference(s1) {60, 70}\n",
      "Difference of two sets s2-s1 {60, 70}\n"
     ]
    }
   ],
   "source": [
    "s1={10,20,30,40,50}\n",
    "s2={20,30,40,50,60,70}\n",
    "print(\"Union operation are\",s1|s2)\n",
    "print(\"Union operation are\",s1.union(s2))\n",
    "result=s1.difference(s2)\n",
    "r1=s1-s2\n",
    "print(\"Difference of two sets s1.difference(s2)\",result)\n",
    "print(\"Difference of two sets s1-s2\",r1)\n",
    "result=s2.difference(s1)\n",
    "r2=s2-s1\n",
    "print(\"Difference of two sets s2.difference(s1)\",result)\n",
    "print(\"Difference of two sets s2-s1\",r2)"
   ]
  },
  {
   "cell_type": "markdown",
   "metadata": {},
   "source": [
    "Frozenset() is a set data type. \n",
    "Frozenset is an immutable data type."
   ]
  },
  {
   "cell_type": "code",
   "execution_count": 21,
   "metadata": {},
   "outputs": [
    {
     "name": "stdout",
     "output_type": "stream",
     "text": [
      "<class 'frozenset'>\n",
      "frozenset({33, 22, 55, 11, 44})\n"
     ]
    }
   ],
   "source": [
    "f1=frozenset({11,22,33,44,55})\n",
    "print(type(f1))\n",
    "print(f1)"
   ]
  },
  {
   "cell_type": "code",
   "execution_count": null,
   "metadata": {},
   "outputs": [],
   "source": []
  }
 ],
 "metadata": {
  "kernelspec": {
   "display_name": "Python 3",
   "language": "python",
   "name": "python3"
  },
  "language_info": {
   "codemirror_mode": {
    "name": "ipython",
    "version": 3
   },
   "file_extension": ".py",
   "mimetype": "text/x-python",
   "name": "python",
   "nbconvert_exporter": "python",
   "pygments_lexer": "ipython3",
   "version": "3.12.5"
  }
 },
 "nbformat": 4,
 "nbformat_minor": 2
}
